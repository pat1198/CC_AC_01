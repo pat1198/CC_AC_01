{
  "nbformat": 4,
  "nbformat_minor": 0,
  "metadata": {
    "colab": {
      "provenance": [],
      "include_colab_link": true
    },
    "kernelspec": {
      "name": "python3",
      "display_name": "Python 3"
    }
  },
  "cells": [
    {
      "cell_type": "markdown",
      "metadata": {
        "id": "view-in-github",
        "colab_type": "text"
      },
      "source": [
        "<a href=\"https://colab.research.google.com/github/pat1198/CC_AC_01/blob/main/%5B20240106%5D_ANS_Coding_for_Data_Science.ipynb\" target=\"_parent\"><img src=\"https://colab.research.google.com/assets/colab-badge.svg\" alt=\"Open In Colab\"/></a>"
      ]
    },
    {
      "cell_type": "markdown",
      "metadata": {
        "id": "HVvJh7n8wBTF"
      },
      "source": [
        "# Coding for Data Science (Day1)\n",
        "##Introduction to Python programming language"
      ]
    },
    {
      "cell_type": "markdown",
      "metadata": {
        "id": "Z4hVBPeDw_ZA"
      },
      "source": [
        "##เนื้อหา\n",
        "\n",
        "\n",
        "*   Introduction to Python language\n",
        "*   Print\n",
        "*   Arithmetic operators\n",
        "*   Variables\n",
        "*   List\n",
        "*   String\n",
        "*   Keyboard input\n",
        "*   Loop\n",
        "*   Selection\n",
        "*   File\n",
        "\n",
        "\n",
        "\n",
        "\n",
        "\n",
        "\n"
      ]
    },
    {
      "cell_type": "markdown",
      "metadata": {
        "id": "GG_kFGkFzpgc"
      },
      "source": [
        "##แนะนำการใช้งาน Google Colab เบื้องต้น\n",
        "*   Save Colab ไปยัง Google Drive ส่วนตัว โดยเลือกที่ File -> Save a copy in Drive\n",
        "*   ถ้ามีปุ่ม **\"Open in Playground\"** อยู่ที่แถบด้านบน กรุณากดปุ่มนี้ก่อน เพื่อที่ท่านจะสามารถสั่งรันโปรแกรมบน colab ของท่านได้\n",
        "*   กล่องคำสั่งจะเป็นสีเทา (หรือสีดำ) เราสามารถเขียนโปรแกรมภาษา Python ลงในกล่องคำสั่งนี้ได้\n",
        "*   วิธีรัน (run): เมื่อเขียนโปรแกรมลงไปแล้ว เราสามารถสั่งรันได้โดยการกดปุ่มเพลย์ ▶️ ที่อยู่หน้ากล่องคำสั่ง หรือกดปุ่ม Shift+Enter ก็ได้\n",
        "*   หากยังไม่เห็นปุ่มเพลย์ ให้เอาเม้าส์ไปคลิกที่กล่องคำสั่งก่อน ปุ่มเพลย์ก็จะปรากฏขึ้นมา\n",
        "*   กล่องคำสั่งจะทำงานต่อเนื่องกันได้ก็ต่อเมื่อ run กล่องคำสั่งก่อนหน้าแล้วเท่านั้น"
      ]
    },
    {
      "cell_type": "code",
      "source": [
        "print('Hello World')"
      ],
      "metadata": {
        "colab": {
          "base_uri": "https://localhost:8080/"
        },
        "id": "kNaCbFzZp1Hh",
        "outputId": "cd25ca8c-f80c-472d-9579-9da85af2632e"
      },
      "execution_count": null,
      "outputs": [
        {
          "output_type": "stream",
          "name": "stdout",
          "text": [
            "Hello World\n"
          ]
        }
      ]
    },
    {
      "cell_type": "markdown",
      "metadata": {
        "id": "OxaK5P6JU61F"
      },
      "source": [
        "##แนะนำภาษา Python\n",
        "* ออกแบบโดย Guido van Rossum เปิดดัวครั้งแรกในปี 1991\n",
        "* เป็นภาษาในรูปแบบ Interpreted\n",
        "* ภาษาโปรแกรมยอดนิยมสำหรับงานด้านวิทยาการข้อมูล (Data Science) และปัญญาประดิษฐ์ (Artificial Intelligence: AI)\n",
        "*  เหมาะสำหรับผู้ที่เริ่มต้นเขียนโปรแกรม เพราะมีกฎเกณฑ์ของภาษาที่ไม่ซับซ้อน\n",
        "* Version ปัจจุบันของ Python คือ version 3"
      ]
    },
    {
      "cell_type": "markdown",
      "metadata": {
        "id": "z38mjjLMQ394"
      },
      "source": [
        "##หัวข้อที่ 1: พิมพ์ข้อความออกหน้าจอ"
      ]
    },
    {
      "cell_type": "markdown",
      "metadata": {
        "id": "vyqfNC8KSy_s"
      },
      "source": [
        "### คำสั่ง `print`\n",
        "\n",
        "- คำสั่งพิมพ์ข้อความในภาษา Python คือ `print`\n",
        "- เช่น `print('Hello')` ก็จะแสดงข้อความว่า `Hello` ออกที่หน้าจอ\n",
        "- ลองคลิกที่กล่องคำสั่งสีเทาที่อยู่ด้านล่าง แล้วกดปุ่มเพลย์ในเครื่องหมายก้ามปู `[ ]` หรือกดปุ่ม Shift+Enter เราเห็นข้อความ `Hello` ที่อยู่ในบรรทัดต่อมา"
      ]
    },
    {
      "cell_type": "code",
      "metadata": {
        "id": "Dyn7PxXzTB2s",
        "colab": {
          "base_uri": "https://localhost:8080/"
        },
        "outputId": "4abdd090-74d3-4403-ea4f-e577d82cfc4b"
      },
      "source": [
        "print('Hello world!')"
      ],
      "execution_count": null,
      "outputs": [
        {
          "output_type": "stream",
          "name": "stdout",
          "text": [
            "Hello world!\n"
          ]
        }
      ]
    },
    {
      "cell_type": "markdown",
      "metadata": {
        "id": "w7jIkwBbTGea"
      },
      "source": [
        "  - จะสังเกตได้ว่า ข้อความ `Hello` ที่เราต้องการจะให้พิมพ์ออกหน้าจอ จะอยู่ในเครื่องหมายคำพูดเดี่ยว (single quote) ในตัวโค้ดเสมอ\n",
        "  - สิ่งที่อยู่ในเครื่องหมายคำพูดเดี่ยวนี้ เราเรียกว่า *สตริง* (string) ซึ่งหมายถึง \"ข้อความ\" นั่นเอง"
      ]
    },
    {
      "cell_type": "markdown",
      "metadata": {
        "id": "zNDUfIj7TYVg"
      },
      "source": [
        "### แบบฝึกหัด 1.1\n",
        "\n",
        "คราวนี้เรามาลองพิมพ์สตริง `'สวัสดี'` ออกที่หน้าจอกันบ้าง ลองเติมข้อความดังกล่าวลงในเครื่องหมายคำพูดเดี่ยวดู"
      ]
    },
    {
      "cell_type": "code",
      "metadata": {
        "id": "a1fYx97cTpIm",
        "colab": {
          "base_uri": "https://localhost:8080/"
        },
        "outputId": "9b46d7b1-fdca-43c7-dadb-d68cb8f6979b"
      },
      "source": [
        "print('สวัสดี')"
      ],
      "execution_count": null,
      "outputs": [
        {
          "output_type": "stream",
          "name": "stdout",
          "text": [
            "สวัสดี\n"
          ]
        }
      ]
    },
    {
      "cell_type": "markdown",
      "metadata": {
        "id": "mM107vD-Twz6"
      },
      "source": [
        "ลองเปลี่ยนสตริงดูตามใจชอบ และสังเกตผลลัพธ์ของการรันโปรแกรม"
      ]
    },
    {
      "cell_type": "markdown",
      "metadata": {
        "id": "bRGPp8RuT9qa"
      },
      "source": [
        "###หมายเหตุ (Comment)\n",
        "- บางครั้งเราอยากใส่หมายเหตุลงไปในโค้ดเพื่อเป็นบันทึกช่วยจำ เราจะใช้สัญลักษณ์ `#` (แฮช หรือ hash) นำหน้าหมายเหตุ โดยเมื่อไรก็ตามที่ใช้เครื่องหมาย `#` สิ่งที่ตามหลังเครื่องหมายนี้จะเป็นหมายเหตุทั้งหมด เช่น"
      ]
    },
    {
      "cell_type": "code",
      "metadata": {
        "id": "gTjJ42jUUJVs",
        "colab": {
          "base_uri": "https://localhost:8080/"
        },
        "outputId": "c72cb1f7-7191-43af-e4aa-ba77839af892"
      },
      "source": [
        "print('Hello')      # แสดงข้อความ Hello ออกที่หน้าจอ"
      ],
      "execution_count": null,
      "outputs": [
        {
          "output_type": "stream",
          "name": "stdout",
          "text": [
            "Hello\n"
          ]
        }
      ]
    },
    {
      "cell_type": "markdown",
      "metadata": {
        "id": "DBO5BlWhUMcX"
      },
      "source": [
        "- หากเราต้องการหมายเหตุทั้งบรรทัด ให้เราใส่เครื่องหมาย `#` ที่ด้านหน้าสุด เช่น"
      ]
    },
    {
      "cell_type": "code",
      "metadata": {
        "id": "xYAtyZZaUPnm",
        "colab": {
          "base_uri": "https://localhost:8080/"
        },
        "outputId": "f72119ac-1363-4609-c096-918b29211597"
      },
      "source": [
        "# แสดงข้อความ Hello ออกที่หน้าจอ\n",
        "print('Hello')"
      ],
      "execution_count": null,
      "outputs": [
        {
          "output_type": "stream",
          "name": "stdout",
          "text": [
            "Hello\n"
          ]
        }
      ]
    },
    {
      "cell_type": "markdown",
      "metadata": {
        "id": "w6vuquqoUUoZ"
      },
      "source": [
        "- เวลาโปรแกรมทำงาน มันจะกระโดดข้ามส่วนที่เป็นหมายเหตุไป\n",
        "- เช่น ในโค้ดด้านล่างนี้ โปรแกรมจะกระโดดข้ามบรรทัดที่ 3 ไป เพราะถูกมองเป็นหมายเหตุ"
      ]
    },
    {
      "cell_type": "code",
      "metadata": {
        "id": "j7kvF1GLUc1L",
        "colab": {
          "base_uri": "https://localhost:8080/"
        },
        "outputId": "6d8fba45-a550-441f-f9a0-07c9fa5d12b9"
      },
      "source": [
        "print('Please')\n",
        "print('Mr.')\n",
        "# print('and Ms.')\n",
        "print('Postman')\n",
        "print('Look and See')"
      ],
      "execution_count": null,
      "outputs": [
        {
          "output_type": "stream",
          "name": "stdout",
          "text": [
            "Please\n",
            "Mr.\n",
            "Postman\n",
            "Look and See\n"
          ]
        }
      ]
    },
    {
      "cell_type": "markdown",
      "metadata": {
        "id": "OIrOdu9tUgs2"
      },
      "source": [
        "### แบบฝึกหัด 1.2\n",
        "ลองใส่เครื่องหมาย `#` หน้าบรรทัดต่างๆ ในโค้ด แล้วสังเกตความเปลี่ยนแปลงของผลลัพธ์"
      ]
    },
    {
      "cell_type": "code",
      "metadata": {
        "id": "SgDoGutWUouY",
        "colab": {
          "base_uri": "https://localhost:8080/"
        },
        "outputId": "8795e272-5021-4880-a4ae-66a7ac846623"
      },
      "source": [
        "#print('Hello')\n",
        "#print('World')\n",
        "print('My')\n",
        "print('name')\n",
        "print('is')\n",
        "print('Peter')"
      ],
      "execution_count": null,
      "outputs": [
        {
          "output_type": "stream",
          "name": "stdout",
          "text": [
            "My\n",
            "name\n",
            "is\n",
            "Peter\n"
          ]
        }
      ]
    },
    {
      "cell_type": "markdown",
      "metadata": {
        "id": "pBu-ug9YUtmW"
      },
      "source": [
        "## หัวข้อที่ 2: การคำนวณทางคณิตศาสตร์"
      ]
    },
    {
      "cell_type": "markdown",
      "metadata": {
        "id": "bOquj93mYNS-"
      },
      "source": [
        "### คำสั่งเลขคณิต (Arithmetic Operations) และนิพจน์ทางคณิตศาสตร์ (Mathematical Expression)\n",
        "\n",
        "- เราสามารถทำการคำนวณทางคณิตศาสตร์ได้ โดยใช้เครื่องหมายบวก `+`, ลบ `-`, คูณ `*`, และหาร `/` กับตัวเลขได้\n",
        "  - **ข้อสังเกต:** เราจะใช้เครื่องหมายดอกจัน `*` แทนการคูณ\n",
        "- เช่น ถ้าเราสั่งให้คอมพิวเตอร์คำนวณค่าของนิพจน์ทางคณิตศาสตร์ $ 5 \\times 2 + 10 $ โปรแกรมก็จะคำนวณผลลัพธ์ให้ทันที"
      ]
    },
    {
      "cell_type": "code",
      "metadata": {
        "id": "4PCqtRfmYmCN",
        "colab": {
          "base_uri": "https://localhost:8080/"
        },
        "outputId": "dfae84da-7c20-4bad-979d-7c33bd1a9cbd"
      },
      "source": [
        "5 * 2 + 10"
      ],
      "execution_count": null,
      "outputs": [
        {
          "output_type": "execute_result",
          "data": {
            "text/plain": [
              "20"
            ]
          },
          "metadata": {},
          "execution_count": 11
        }
      ]
    },
    {
      "cell_type": "markdown",
      "metadata": {
        "id": "zXTYkqwyYmxo"
      },
      "source": [
        "- ถ้าเราเขียนโปรแกรมเพื่อคำนวณค่าของนิพจน์ $ 10 + \\frac{5}{2} $ เราจะได้ผลลัพธ์ดังนี้"
      ]
    },
    {
      "cell_type": "code",
      "metadata": {
        "id": "n24VdVqLYy-k",
        "colab": {
          "base_uri": "https://localhost:8080/"
        },
        "outputId": "91dbbaa8-0430-42e0-9806-5113218e8f03"
      },
      "source": [
        "10 + 5 / 2"
      ],
      "execution_count": null,
      "outputs": [
        {
          "output_type": "execute_result",
          "data": {
            "text/plain": [
              "12.5"
            ]
          },
          "metadata": {},
          "execution_count": 12
        }
      ]
    },
    {
      "cell_type": "markdown",
      "metadata": {
        "id": "9jqez7hBY5RR"
      },
      "source": [
        "- จะสังเกตได้ว่า คอมพิวเตอร์คำนวณการหาร 5 / 2 และใส่ค่าทศนิยมให้โดยอัตโนมัติ"
      ]
    },
    {
      "cell_type": "markdown",
      "metadata": {
        "id": "MZd5YiGdZAxe"
      },
      "source": [
        "### แบบฝึกหัด 2.1\n",
        "\n",
        "เรามาลองคำนวณค่าของนิพจน์ทางคณิตศาสตร์ต่อไปนี้กันดูบ้าง\n",
        "\n",
        "$ \\frac{3}{4} + \\frac{1}{4} $"
      ]
    },
    {
      "cell_type": "code",
      "metadata": {
        "id": "UjfSKS-oZJNi",
        "colab": {
          "base_uri": "https://localhost:8080/"
        },
        "outputId": "56f56579-1824-42c0-fd35-02cb9d38e5c5"
      },
      "source": [
        "3/4+1/4"
      ],
      "execution_count": null,
      "outputs": [
        {
          "output_type": "execute_result",
          "data": {
            "text/plain": [
              "1.0"
            ]
          },
          "metadata": {},
          "execution_count": 13
        }
      ]
    },
    {
      "cell_type": "markdown",
      "metadata": {
        "id": "JO4v_qGrZKTZ"
      },
      "source": [
        "$ 1 + 6 \\times 8 - 7 $"
      ]
    },
    {
      "cell_type": "code",
      "metadata": {
        "id": "6rN1nd1iZOqG",
        "colab": {
          "base_uri": "https://localhost:8080/"
        },
        "outputId": "8cb248bd-ee32-4f0a-8bbb-3a94c267793b"
      },
      "source": [
        "1+6*8-7"
      ],
      "execution_count": null,
      "outputs": [
        {
          "output_type": "execute_result",
          "data": {
            "text/plain": [
              "42"
            ]
          },
          "metadata": {},
          "execution_count": 17
        }
      ]
    },
    {
      "cell_type": "markdown",
      "metadata": {
        "id": "31CX2cV6ZPKZ"
      },
      "source": [
        "$ 5 \\times 6 + 7 \\times 8 - \\frac{2}{5} $"
      ]
    },
    {
      "cell_type": "code",
      "metadata": {
        "id": "WQkuG8MbZTiw",
        "colab": {
          "base_uri": "https://localhost:8080/"
        },
        "outputId": "bdf60902-76ba-44a3-d314-01bd5ca76687"
      },
      "source": [
        "5*6+7*8-2/5"
      ],
      "execution_count": null,
      "outputs": [
        {
          "output_type": "execute_result",
          "data": {
            "text/plain": [
              "85.6"
            ]
          },
          "metadata": {},
          "execution_count": 15
        }
      ]
    },
    {
      "cell_type": "markdown",
      "metadata": {
        "id": "-bKkZh21ZV9v"
      },
      "source": [
        "### วงเล็บในนิพจน์ทางคณิตศาสตร์\n",
        "\n",
        "- ทั้งนี้ เราสามารถใช้เครื่องหมายวงเล็บ `( )` ได้เหมือนกับนิพจน์ทางคณิตศาสตร์\n",
        "- เช่น เราสามารถคำนวณค่าของนิพจน์ $ 4 \\times 3 + (1 + 2) / 4 $ ได้ด้วยคำสั่งนี้"
      ]
    },
    {
      "cell_type": "code",
      "metadata": {
        "id": "HbXENCULZcWm"
      },
      "source": [
        "4 * 3 + (1 + 2) / 4"
      ],
      "execution_count": null,
      "outputs": []
    },
    {
      "cell_type": "markdown",
      "metadata": {
        "id": "YTAHHWsNZfeP"
      },
      "source": [
        "- ข้อแตกต่างคือ ในกรณีที่มีวงเล็บซ้อนวงเล็บ เราจะใช้เครื่องหมายวงเล็บ `( )` เสมอ <u>**ห้ามใช้**</u>เครื่องหมายก้ามปู `[ ]` และเครื่องหมายปีกกา `{ }` โดยเด็ดขาด\n",
        "- เช่น ถ้าเราจะคำนวณค่าของนิพจน์ $ \\left( \\left[ 1 / \\left\\{ 2 + 3 \\right\\} \\right] \\times 4 + 5 \\right) / 6 $ เราจะต้องเปลี่ยนก้ามปูและปีกกากลับมาเป็นวงเล็บก่อนเสมอ"
      ]
    },
    {
      "cell_type": "code",
      "metadata": {
        "id": "oyMzvo9nZkWE",
        "colab": {
          "base_uri": "https://localhost:8080/"
        },
        "outputId": "4d09958b-c514-4a24-ef05-ab8ff65363ea"
      },
      "source": [
        "((1 / (2 + 3)) * 4 + 5) / 6"
      ],
      "execution_count": null,
      "outputs": [
        {
          "output_type": "execute_result",
          "data": {
            "text/plain": [
              "0.9666666666666667"
            ]
          },
          "metadata": {},
          "execution_count": 18
        }
      ]
    },
    {
      "cell_type": "markdown",
      "metadata": {
        "id": "kFPQF1G4Zmqy"
      },
      "source": [
        "- **หมายเหตุ:** เครื่องหมายวงเล็บมีหน้าที่เปลี่ยนลำดับการทำงาน โดยจะเริ่มทำในวงเล็บก่อนเสมอ โดยลำดับการทำงานจะเริ่มจาก (1) ทำในวงเล็บ (2) คูณและหาร (3) บวกและลบ\n",
        "- เช่น ลองสังเกตผลลัพธ์ของนิพจน์ทั้งสองนี้ครับ: $ (1 + 2) \\times 3 $ กับ $ 1 + (2 \\times 3) $"
      ]
    },
    {
      "cell_type": "code",
      "metadata": {
        "id": "1fsHjGtWZvom",
        "colab": {
          "base_uri": "https://localhost:8080/"
        },
        "outputId": "f74f5bf0-8160-4692-fee7-f3d9e899bc3b"
      },
      "source": [
        "(1 + 2) * 3"
      ],
      "execution_count": null,
      "outputs": [
        {
          "output_type": "execute_result",
          "data": {
            "text/plain": [
              "9"
            ]
          },
          "metadata": {},
          "execution_count": 19
        }
      ]
    },
    {
      "cell_type": "code",
      "metadata": {
        "id": "AtYJHkbzZxtj",
        "colab": {
          "base_uri": "https://localhost:8080/"
        },
        "outputId": "2b1ce315-d34e-46db-b47c-40897efaf979"
      },
      "source": [
        "1 + (2 * 3)"
      ],
      "execution_count": null,
      "outputs": [
        {
          "output_type": "execute_result",
          "data": {
            "text/plain": [
              "7"
            ]
          },
          "metadata": {},
          "execution_count": 20
        }
      ]
    },
    {
      "cell_type": "markdown",
      "metadata": {
        "id": "XgHd9WAPZ0KX"
      },
      "source": [
        "- ทั้งนี้ขอให้ท่านระมัดระวังการใช้เครื่องหมายคูณ `*` และหาร `/` ด้วย เพราะถ้าหากไม่ระบุวงเล็บให้ชัดเจน ลำดับการคำนวณก็อาจจะไม่เป็นไปตามที่ท่านต้องการได้"
      ]
    },
    {
      "cell_type": "markdown",
      "metadata": {
        "id": "pcjsRDSTZ75G"
      },
      "source": [
        "### แบบฝึกหัด 2.2\n",
        "เรามาลองคำนวณค่าของนิพจน์ทางคณิตศาสตร์ต่อไปนี้กัน\n",
        "\n",
        "$ 3 \\times (4 + 1 - 2 \\times 5) $"
      ]
    },
    {
      "cell_type": "code",
      "metadata": {
        "id": "O5zShJj6aFbi",
        "colab": {
          "base_uri": "https://localhost:8080/"
        },
        "outputId": "1a4ddca1-de50-414f-ef16-ba3362aec123"
      },
      "source": [
        "3 * (4 + 1 - 2 * 5)"
      ],
      "execution_count": null,
      "outputs": [
        {
          "output_type": "execute_result",
          "data": {
            "text/plain": [
              "-15"
            ]
          },
          "metadata": {},
          "execution_count": 21
        }
      ]
    },
    {
      "cell_type": "markdown",
      "metadata": {
        "id": "RM4xwOfWaGIR"
      },
      "source": [
        "$ \\frac{1 + 2 + 3}{4 + 5 + 6} $  "
      ]
    },
    {
      "cell_type": "code",
      "metadata": {
        "id": "HEY8PTowaMnP",
        "colab": {
          "base_uri": "https://localhost:8080/"
        },
        "outputId": "1d87c6e3-af26-48eb-e360-4afb288b6b04"
      },
      "source": [
        "(1+2+3)/(4+5+6)"
      ],
      "execution_count": null,
      "outputs": [
        {
          "output_type": "execute_result",
          "data": {
            "text/plain": [
              "0.4"
            ]
          },
          "metadata": {},
          "execution_count": 22
        }
      ]
    },
    {
      "cell_type": "markdown",
      "metadata": {
        "id": "GsPWzZWYaNAT"
      },
      "source": [
        " $ 7 \\times \\frac{5 + 6}{7 + \\frac{7}{8}} $"
      ]
    },
    {
      "cell_type": "code",
      "source": [
        "7 * ((5 + 6) / (7 + (7 / 8)))"
      ],
      "metadata": {
        "colab": {
          "base_uri": "https://localhost:8080/"
        },
        "id": "ruhp0gU2wCuB",
        "outputId": "ca2e1dc8-0e8a-4132-d33e-41a66c571e73"
      },
      "execution_count": null,
      "outputs": [
        {
          "output_type": "execute_result",
          "data": {
            "text/plain": [
              "9.777777777777777"
            ]
          },
          "metadata": {},
          "execution_count": 23
        }
      ]
    },
    {
      "cell_type": "markdown",
      "metadata": {
        "id": "7rmFtpk8aSAY"
      },
      "source": [
        "### เครื่องหมายยกกำลัง (Power) และการถอดราก (Root)\n",
        "\n",
        "- เครื่องหมายยกกำลังในภาษา Python จะใช้เครื่องหมาย `**` (ดอกจันเขียนติดกัน 2 ดวง)\n",
        "- เช่น ถ้าเราจะคำนวณค่าของนิพจน์ $ 2^5 $ เราจะใช้คำสั่งว่า"
      ]
    },
    {
      "cell_type": "code",
      "metadata": {
        "id": "Q5vl2WjoaX45",
        "colab": {
          "base_uri": "https://localhost:8080/"
        },
        "outputId": "28673254-3377-4d63-ce97-2b5462a949e3"
      },
      "source": [
        "2 ** 5"
      ],
      "execution_count": null,
      "outputs": [
        {
          "output_type": "execute_result",
          "data": {
            "text/plain": [
              "32"
            ]
          },
          "metadata": {},
          "execution_count": 24
        }
      ]
    },
    {
      "cell_type": "markdown",
      "metadata": {
        "id": "Z30RWzn2aYlW"
      },
      "source": [
        "- เมื่อเรานำเครื่องหมายยกกำลังมาใส่ในนิพจน์ทางคณิตศาสตร์ ลำดับการทำงานจะเปลี่ยนไปตามนี้\n",
        "  1. ทำในวงเล็บก่อน\n",
        "  2. ทำเครื่องหมายยกกำลัง\n",
        "  3. ทำเครื่องหมายคูณและหาร\n",
        "  4. ทำเครื่องหมายบวกและลบ\n",
        "- เช่น ลองสังเกตการคำนวณค่าของนิพจน์ 3 ตัวนี้: `(2 * 5) ** 3`, `2 * (5 ** 3)`, และ `2 * 5 ** 3`"
      ]
    },
    {
      "cell_type": "code",
      "metadata": {
        "id": "n3sHxsiYahvy",
        "colab": {
          "base_uri": "https://localhost:8080/"
        },
        "outputId": "eadfdba5-c82b-46d9-d8f1-42454e105bd5"
      },
      "source": [
        "(2 * 5) ** 3"
      ],
      "execution_count": null,
      "outputs": [
        {
          "output_type": "execute_result",
          "data": {
            "text/plain": [
              "1000"
            ]
          },
          "metadata": {},
          "execution_count": 25
        }
      ]
    },
    {
      "cell_type": "code",
      "metadata": {
        "id": "GhvBlafLajxp",
        "colab": {
          "base_uri": "https://localhost:8080/"
        },
        "outputId": "e475a76e-5f57-44a5-df2c-f0cdb458f809"
      },
      "source": [
        "2 * (5 ** 3)"
      ],
      "execution_count": null,
      "outputs": [
        {
          "output_type": "execute_result",
          "data": {
            "text/plain": [
              "250"
            ]
          },
          "metadata": {},
          "execution_count": 26
        }
      ]
    },
    {
      "cell_type": "code",
      "metadata": {
        "id": "PGWER_5nalzg",
        "colab": {
          "base_uri": "https://localhost:8080/"
        },
        "outputId": "2befa055-b247-4967-c713-dc664c052b6e"
      },
      "source": [
        "2 * 5 ** 3"
      ],
      "execution_count": null,
      "outputs": [
        {
          "output_type": "execute_result",
          "data": {
            "text/plain": [
              "250"
            ]
          },
          "metadata": {},
          "execution_count": 29
        }
      ]
    },
    {
      "cell_type": "markdown",
      "metadata": {
        "id": "MulwHfKkaoB2"
      },
      "source": [
        "- ดังนั้นเพื่อความปลอดภัย เราจึงนิยมเขียนเครื่องหมายยกกำลัง `**` ติดกับตัวเลข เพื่อให้เป็นที่รู้กันว่า ถ้าหากไม่มีวงเล็บ เราจะเริ่มทำจากเครื่องหมายยกกำลังก่อนเสมอ เช่น เราจะเขียนนิพจน์ $ 2 \\times 5^3 $ ด้วยคำสั่ง `2 * 5**3` เป็นต้น\n",
        "- นอกจากนี้เรายังสามารถคำนวณค่าราก (root) ได้โดยการใช้สูตร:\n",
        "\n",
        "$$ \\sqrt[r]{a} = a^{1/r} $$\n",
        "\n",
        "- เช่น เราสามารถคำนวณค่า $ \\sqrt[3]{8} $ (รากที่ 3 ของ 8) ได้โดยคำสั่ง `8**(1/3)`"
      ]
    },
    {
      "cell_type": "code",
      "metadata": {
        "id": "rW1j-D8qaww-",
        "colab": {
          "base_uri": "https://localhost:8080/"
        },
        "outputId": "4eff070d-b6c1-427c-97bf-4efb91070ad6"
      },
      "source": [
        "8**(1/3)"
      ],
      "execution_count": null,
      "outputs": [
        {
          "output_type": "execute_result",
          "data": {
            "text/plain": [
              "2.0"
            ]
          },
          "metadata": {},
          "execution_count": 31
        }
      ]
    },
    {
      "cell_type": "markdown",
      "metadata": {
        "id": "a_zlQYRva7aU"
      },
      "source": [
        "### แบบฝึกหัด 2.3\n",
        "เรามาคำนวณค่าของนิพจน์ดังต่อไปนี้กัน\n",
        "\n",
        " $ 3^{5 + 3/4} $"
      ]
    },
    {
      "cell_type": "code",
      "metadata": {
        "id": "B5Ou6nDZbCpH",
        "colab": {
          "base_uri": "https://localhost:8080/"
        },
        "outputId": "d163bee9-82b8-4e54-ee85-c63819ff14df"
      },
      "source": [
        "3**(5 + (3 / 4))"
      ],
      "execution_count": null,
      "outputs": [
        {
          "output_type": "execute_result",
          "data": {
            "text/plain": [
              "553.920214840011"
            ]
          },
          "metadata": {},
          "execution_count": 35
        }
      ]
    },
    {
      "cell_type": "markdown",
      "metadata": {
        "id": "PH2vKISzbC65"
      },
      "source": [
        " $ \\sqrt[2]{\\left( 7 + 3 \\times 4 \\right)} $"
      ]
    },
    {
      "cell_type": "code",
      "metadata": {
        "id": "QYfCXd-6bFpZ",
        "colab": {
          "base_uri": "https://localhost:8080/"
        },
        "outputId": "ba778858-1c0c-4ed4-a8c1-bc871578c5e1"
      },
      "source": [
        "(7 + 3 * 4)**(1/2)"
      ],
      "execution_count": null,
      "outputs": [
        {
          "output_type": "execute_result",
          "data": {
            "text/plain": [
              "4.358898943540674"
            ]
          },
          "metadata": {},
          "execution_count": 36
        }
      ]
    },
    {
      "cell_type": "markdown",
      "metadata": {
        "id": "O7fQ0JBvbF7Q"
      },
      "source": [
        " $ \\frac{5 + 6^{2.5}}{\\sqrt[2]{3.5}} + 3^2 $"
      ]
    },
    {
      "cell_type": "code",
      "metadata": {
        "id": "zmeh2OMmbJb2",
        "colab": {
          "base_uri": "https://localhost:8080/"
        },
        "outputId": "0e0ed483-e98c-4c4b-f41c-1cb1f1e68949"
      },
      "source": [
        "((5 + (6**2.5))/(3.5**(1/2))) + (3**2)"
      ],
      "execution_count": null,
      "outputs": [
        {
          "output_type": "execute_result",
          "data": {
            "text/plain": [
              "58.8076767100986"
            ]
          },
          "metadata": {},
          "execution_count": 37
        }
      ]
    },
    {
      "cell_type": "markdown",
      "metadata": {
        "id": "bUoDfC2gbL3a"
      },
      "source": [
        "## หัวข้อที่ 3: ตัวแปร"
      ]
    },
    {
      "cell_type": "markdown",
      "metadata": {
        "id": "24fI89NPbUJO"
      },
      "source": [
        "### ตัวแปร (variable)\n",
        "\n",
        "- ตัวแปรเปรียบเสมือนที่ทดเลข เพื่อที่จะได้นำผลลัพธ์จากการคำนวณค่าของนิพจน์ที่ทดไว้ ไปใช้ต่อได้ในอนาคต\n",
        "- เนื่องจากกระดาษในคอมพิวเตอร์มีขนาดใหญ่มาก เราจึงต้องจองพื้นที่สำหรับทดเลขและตั้งชื่อเอาไว้ เวลาจะหยิบสิ่งที่ทดไว้กลับมาใช้ใหม่จะได้ไม่หลงที่นั่นเอง\n",
        "- เช่น เราสามารถทดค่าของ $ 2^5 $ เก็บไว้ในตัวแปร `a` และทดค่าของ $\\sqrt[2]{5}$ เก็บไว้ในตัวแปร `b` เพื่อใช้ต่อในการคำนวณต่อๆ ไปได้ ซึ่งในตัวอย่างนี้เราจะคำนวณค่าของ $ a^3 + b^3 $ กัน"
      ]
    },
    {
      "cell_type": "code",
      "metadata": {
        "id": "yZEnTsBYbcCL",
        "colab": {
          "base_uri": "https://localhost:8080/"
        },
        "outputId": "8f884dd1-ea12-4ed5-cbc5-cb394227847a"
      },
      "source": [
        "a = 2**5               # ทดค่าไว้ในตัวแปร a\n",
        "b = 5**(1/2)           # ทดค่าไว้ในตัวแปร b\n",
        "a**3 + b**3"
      ],
      "execution_count": null,
      "outputs": [
        {
          "output_type": "execute_result",
          "data": {
            "text/plain": [
              "32779.1803398875"
            ]
          },
          "metadata": {},
          "execution_count": 38
        }
      ]
    },
    {
      "cell_type": "markdown",
      "metadata": {
        "id": "zUPtV2kQbfAu"
      },
      "source": [
        "- เราสามารถพิมพ์ค่าตัวแปรออกหน้าจอได้ด้วยคำสั่ง `print` เช่นเดียวกับการแสดงข้อความ เช่น"
      ]
    },
    {
      "cell_type": "code",
      "metadata": {
        "id": "Ucsdbl8Ybfvp",
        "colab": {
          "base_uri": "https://localhost:8080/"
        },
        "outputId": "07b95681-030a-4b23-97a4-d01951f593f1"
      },
      "source": [
        "print(a)\n",
        "print(b)"
      ],
      "execution_count": null,
      "outputs": [
        {
          "output_type": "stream",
          "name": "stdout",
          "text": [
            "32\n",
            "2.23606797749979\n"
          ]
        }
      ]
    },
    {
      "cell_type": "markdown",
      "metadata": {
        "id": "kG14pimsbiPh"
      },
      "source": [
        "- แต่บางครั้งการตั้งชื่อตัวแปรด้วยตัวอักษรเดี่ยวๆ ก็จำยาก เดี๋ยวมาอ่านทีหลังก็อาจจะลืมอีก เราเลยนิยมตั้งชื่อตัวแปรให้เป็นคำที่อ่านแล้วจำได้ง่ายแทน เช่น `width` (ความกว้าง), `height` (ความสูง), และ `area` (พื้นที่) ดังตัวอย่างด้านล่างนี้"
      ]
    },
    {
      "cell_type": "code",
      "metadata": {
        "id": "3TEtVlVVboy3"
      },
      "source": [
        "width = 40\n",
        "height = 30\n",
        "area = width * height\n",
        "print(area)"
      ],
      "execution_count": null,
      "outputs": []
    },
    {
      "cell_type": "markdown",
      "metadata": {
        "id": "_89PlGljbrHW"
      },
      "source": [
        "- หากชื่อตัวแปรประกอบด้วยหลายคำ ให้ใช้เครื่องหมาย _ (ขีดเส้นใต้ หรือ underscore) คั่นระหว่างคำ เพื่อให้อ่านง่ายขึ้น เช่น `area_of_triangle` พื้นที่สามเหลี่ยม เป็นต้น"
      ]
    },
    {
      "cell_type": "code",
      "metadata": {
        "id": "46YUtpHobvdf"
      },
      "source": [
        "width = 40\n",
        "height = 30\n",
        "area_of_triangle = 1/2 * width * height\n",
        "print(area_of_triangle)"
      ],
      "execution_count": null,
      "outputs": []
    },
    {
      "cell_type": "code",
      "source": [],
      "metadata": {
        "id": "JwBNRXCg0Fgt"
      },
      "execution_count": null,
      "outputs": []
    },
    {
      "cell_type": "markdown",
      "metadata": {
        "id": "AH7Il023bwCc"
      },
      "source": [
        "- นอกจากนี้คำสั่ง `print` ยังสามารถพิมพ์ค่าออกหน้าจอได้หลายๆ อันพร้อมกัน เช่น"
      ]
    },
    {
      "cell_type": "code",
      "metadata": {
        "id": "1j0JqcfwbzgL",
        "colab": {
          "base_uri": "https://localhost:8080/"
        },
        "outputId": "e1aa1308-375a-4a57-b5dc-b534d6394504"
      },
      "source": [
        "width = 40\n",
        "height = 30\n",
        "area_of_triangle = 1/2 * width * height\n",
        "print('width =', width, 'and height =', height)\n",
        "print('area = 1/2 * width * height =',area_of_triangle)"
      ],
      "execution_count": null,
      "outputs": [
        {
          "output_type": "stream",
          "name": "stdout",
          "text": [
            "width = 40 and height = 30\n",
            "area = 1/2 * width * height = 600.0\n"
          ]
        }
      ]
    },
    {
      "cell_type": "markdown",
      "metadata": {
        "id": "bNHeqeqcb6-6"
      },
      "source": [
        "### แบบฝึกหัด 3.1\n",
        "1. ทดลองกำหนดค่าในตัวแปร `a`, `b`, และ `c` ในโค้ดด้านล่าง แล้วสังเกตความเปลี่ยนแปลงของผลลัพธ์"
      ]
    },
    {
      "cell_type": "code",
      "metadata": {
        "id": "O0YaRFB0cAlD",
        "colab": {
          "base_uri": "https://localhost:8080/"
        },
        "outputId": "d6cb9e35-a0cb-43ce-e82b-a04590abc640"
      },
      "source": [
        "a = 10\n",
        "b = 20\n",
        "c = 30\n",
        "mean = (a + b + c) / 3\n",
        "print(mean)"
      ],
      "execution_count": null,
      "outputs": [
        {
          "output_type": "stream",
          "name": "stdout",
          "text": [
            "20.0\n"
          ]
        }
      ]
    },
    {
      "cell_type": "markdown",
      "metadata": {
        "id": "hdd8yvFccEKu"
      },
      "source": [
        "2. ตัวแปร `mean` ในโค้ดด้านบนคือค่าอะไร? ทำไมจึงต้องตั้งชื่อตัวแปรแบบนี้?"
      ]
    },
    {
      "cell_type": "markdown",
      "metadata": {
        "id": "uLo8DUOvYDgR"
      },
      "source": [
        "3. จงเขียนโค้ดลงในช่องว่างให้สมบูรณ์ เพื่อคำนวณค่าเฉลี่ยฮาร์โมนิก (harmonic mean) ของตัวแปร `a`, `b`, และ `c` โดยค่าเฉลี่ยฮาร์โมนิกมีสูตรดังนี้\n",
        "\n",
        "$$ \\mathrm{hmean}(a, b, c) = \\frac{3}{\\frac{1}{a} + \\frac{1}{b} + \\frac{1}{c}} $$"
      ]
    },
    {
      "cell_type": "code",
      "metadata": {
        "id": "HsVvL3IZcLe-",
        "colab": {
          "base_uri": "https://localhost:8080/"
        },
        "outputId": "d1c7119c-0c89-4196-9910-26070c2f0b5c"
      },
      "source": [
        "a = 10\n",
        "b = 20\n",
        "c = 30\n",
        "hmean = 3/((1/a) + (1/b) + (1/c))   # เติมโค้ดที่นี่\n",
        "print(hmean)"
      ],
      "execution_count": null,
      "outputs": [
        {
          "output_type": "stream",
          "name": "stdout",
          "text": [
            "16.363636363636363\n"
          ]
        }
      ]
    },
    {
      "cell_type": "markdown",
      "metadata": {
        "id": "QMiFK9o4cOBj"
      },
      "source": [
        "4. ทดลองเปลี่ยนค่าตัวแปร `a`, `b`, และ `c` และสังเกตความเปลี่ยนแปลงของผลลัพธ์"
      ]
    },
    {
      "cell_type": "markdown",
      "metadata": {
        "id": "pMiabnhDcQMZ"
      },
      "source": [
        "5. เขียนโค้ดเพื่อคำนวณปริมาตรของทรงรี (ellipsoid) จากตัวแปรต่อไปนี้\n",
        "  - ความกว้างเก็บอยู่ในตัวแปร `width`\n",
        "  - ความยาวเก็บอยู่ในตัวแปร `length`\n",
        "  - ความลึกเก็บอยู่ในตัวแปร `depth`\n",
        "\n",
        "  สูตรของปริมาตรทรงรีมีดังนี้\n",
        "\n",
        "$$ \\mathtt{volume} = \\frac{4}{3} \\times \\pi \\times \\mathtt{width} \\times \\mathtt{length} \\times \\mathtt{depth} $$"
      ]
    },
    {
      "cell_type": "code",
      "metadata": {
        "id": "0BW3XQTkcWld",
        "colab": {
          "base_uri": "https://localhost:8080/"
        },
        "outputId": "d33fbc57-5dde-4d47-ecc5-b4d4ad1c97b4"
      },
      "source": [
        "pi = 3.1415926   # ค่า 𝜋 (ไพ)\n",
        "\n",
        "# กำหนดความกว้างในตัวแปร width ให้เท่ากับ 20\n",
        "width = 20\n",
        "\n",
        "# กำหนดความยาวในตัวแปร length ให้เท่ากับ 30\n",
        "length = 30\n",
        "\n",
        "# กำหนดความลึกในตัวแปร depth ให้เท่ากับ 40\n",
        "depth = 40\n",
        "\n",
        "# คำนวณปริมาตรของทรงรีแล้วเก็บในตัวแปร volume\n",
        "volume = 4/3 * pi * width * length * depth\n",
        "\n",
        "# พิมพ์ค่าในตัวแปร volume\n",
        "print(volume)"
      ],
      "execution_count": null,
      "outputs": [
        {
          "output_type": "stream",
          "name": "stdout",
          "text": [
            "100530.9632\n"
          ]
        }
      ]
    },
    {
      "cell_type": "markdown",
      "source": [
        "### ตัวแปรอื่นๆ ในภาษา Python\n",
        "|Name|Type|Examples|\n",
        "|:----|:---|:---|\n",
        "|Boolean |bool |`True, False`|\n",
        "|Integer |int| `47, 25000, 25_000`|\n",
        "|Floating point|float| `3.14, 2.7e5`|\n",
        "|Complex |complex|`3j, 5 + 9j`|\n",
        "|Text string| str|` 'alas', \"alack\", '''a verse attack'''`|\n",
        "|List |list|` ['Winken', 'Blinken', 'Nod']`|\n",
        "|Tuple |tuple | `(2, 4, 8)` |\n",
        "|Bytes| bytes | `b'ab\\xff'`|\n",
        "|Byte Array |bytearray|  `bytearray(...)`|\n",
        "|Set| set |`set([3, 5, 7])`|\n",
        "|Frozen set |frozenset| `frozenset(['Elsa', 'Otto'])`|\n",
        "|Dictionary |dict|`{'game': 'bingo', 'dog': 'dingo', 'drummer': 'Ringo'}`|"
      ],
      "metadata": {
        "id": "RRFqKrNCH9iK"
      }
    },
    {
      "cell_type": "markdown",
      "metadata": {
        "id": "ECIcxRh5kxQu"
      },
      "source": [
        "## หัวข้อที่ 4: รายการข้อมูล\n"
      ]
    },
    {
      "cell_type": "markdown",
      "metadata": {
        "id": "q7EJZ4JmZt9t"
      },
      "source": [
        "### ลิสต์ (list)\n",
        "- ลิสต์ (list) คือรายการของข้อมูลที่เราสามารถปรับเปลี่ยนรายการได้ตลอดเวลา\n",
        "- ลิสต์ใช้สัญลักษณ์ `[ ]` คั่นด้วยเครื่องหมายคอมมา `,`\n",
        "- เช่น ลิสต์ของความสูงนักเรียนในกลุ่ม 5 คน มีดังนี้"
      ]
    },
    {
      "cell_type": "code",
      "metadata": {
        "id": "ZPbOdQIglRbt",
        "colab": {
          "base_uri": "https://localhost:8080/"
        },
        "outputId": "ba25b10c-b171-43f4-d25b-00fcb58a9f6e"
      },
      "source": [
        "[163.5, 150.0, 167.0, 161.25, 170.0]"
      ],
      "execution_count": null,
      "outputs": [
        {
          "output_type": "execute_result",
          "data": {
            "text/plain": [
              "[163.5, 150.0, 167.0, 161.25, 170.0]"
            ]
          },
          "metadata": {},
          "execution_count": 44
        }
      ]
    },
    {
      "cell_type": "markdown",
      "metadata": {
        "id": "4zWbDMSJlUTw"
      },
      "source": [
        "- เราสามารถนำลิสต์มาเก็บในตัวแปรได้ ทำให้ตัวแปรเดียวสามารถเก็บค่าไว้ได้หลายค่า เช่น"
      ]
    },
    {
      "cell_type": "code",
      "metadata": {
        "id": "h03TNDO6lY5D",
        "colab": {
          "base_uri": "https://localhost:8080/"
        },
        "outputId": "12725d8d-af5c-4297-8bfa-6699aba2b8ed"
      },
      "source": [
        "# ลิสต์ความสูงของนักเรียนในกลุ่ม\n",
        "student_heights = [163.5, 150.0, 167.0, 161.25, 170.0]\n",
        "print('student heights =', student_heights)"
      ],
      "execution_count": null,
      "outputs": [
        {
          "output_type": "stream",
          "name": "stdout",
          "text": [
            "student heights = [163.5, 150.0, 167.0, 161.25, 170.0]\n"
          ]
        }
      ]
    },
    {
      "cell_type": "markdown",
      "metadata": {
        "id": "FI5Zs_0RldOf"
      },
      "source": [
        "### แบบฝึกหัด 4.1\n",
        "ลองสร้างลิสต์จากรายการสมาชิกดังต่อไปนี้ `[10, 20, 30, 40, 50]` แล้วเก็บลงในตัวแปร `my_list`"
      ]
    },
    {
      "cell_type": "code",
      "metadata": {
        "id": "Dz37dH8rliBK",
        "colab": {
          "base_uri": "https://localhost:8080/"
        },
        "outputId": "401e7fd3-220d-49ab-be24-c4414b94e8dc"
      },
      "source": [
        "my_list = [10, 20, 30, 40, 50]  # เติมโค้ดที่นี่\n",
        "print(my_list)"
      ],
      "execution_count": null,
      "outputs": [
        {
          "output_type": "stream",
          "name": "stdout",
          "text": [
            "[10, 20, 30, 40, 50]\n"
          ]
        }
      ]
    },
    {
      "cell_type": "markdown",
      "metadata": {
        "id": "0Zb4gBnalk0h"
      },
      "source": [
        "### ขนาดของลิสต์\n",
        "- เราสามารถหาขนาดของลิสต์ได้ด้วยคำสั่ง `len` ซึ่งย่อมาจากคำว่า length เช่น"
      ]
    },
    {
      "cell_type": "code",
      "metadata": {
        "id": "zAr2VNo3lpIe",
        "colab": {
          "base_uri": "https://localhost:8080/"
        },
        "outputId": "1cf5ffa2-0e1e-446c-8ca6-b225b5137eb3"
      },
      "source": [
        "len(student_heights)"
      ],
      "execution_count": null,
      "outputs": [
        {
          "output_type": "execute_result",
          "data": {
            "text/plain": [
              "5"
            ]
          },
          "metadata": {},
          "execution_count": 49
        }
      ]
    },
    {
      "cell_type": "markdown",
      "metadata": {
        "id": "mhhhlWRdlsWc"
      },
      "source": [
        "### แบบฝึกหัด 4.2\n",
        "จงหาขนาดของลิสต์ในตัวแปร `my_list` ใส่ตัวแปร `my_length` แล้วพิมพ์ค่าของตัวแปรดังกล่าวออกหน้าจอ"
      ]
    },
    {
      "cell_type": "code",
      "metadata": {
        "id": "YFmPpGWMlwyD",
        "colab": {
          "base_uri": "https://localhost:8080/"
        },
        "outputId": "b1f8d7b7-386e-4599-803b-d6d499f6023c"
      },
      "source": [
        "my_length = len(my_list)   # เติมโค้ดที่นี่\n",
        "print(my_length)"
      ],
      "execution_count": null,
      "outputs": [
        {
          "output_type": "stream",
          "name": "stdout",
          "text": [
            "5\n"
          ]
        }
      ]
    },
    {
      "cell_type": "markdown",
      "metadata": {
        "id": "Er73eXXSl0ZI"
      },
      "source": [
        "### การเข้าถึงสมาชิกภายในลิสต์\n",
        "- เราสามารถเข้าถึงสมาชิกแต่ละตัวในลิสต์ด้วยการระบุตำแหน่งของสมาชิกที่เราต้องการ\n",
        "- การนับตำแหน่ง (index) ของสมาชิก จะเริ่มต้นจาก 0 เสมอ เช่น `student_heights[0]` จะแทนสมาชิกตัวแรกของลิสต์ความสูงของนักเรียน ในขณะที่ `student_heights[1]` จะแทนสมาชิกตัวที่ 2 ของลิสต์ ฯลฯ"
      ]
    },
    {
      "cell_type": "code",
      "metadata": {
        "id": "XCsOYtDfl8No",
        "colab": {
          "base_uri": "https://localhost:8080/"
        },
        "outputId": "c71d2c0c-4d6e-4b07-b249-08bb533f2f14"
      },
      "source": [
        "print(student_heights[0])\n",
        "print(student_heights[1])\n",
        "print(student_heights[2])\n",
        "print(student_heights[3])\n",
        "print(student_heights[4])"
      ],
      "execution_count": null,
      "outputs": [
        {
          "output_type": "stream",
          "name": "stdout",
          "text": [
            "163.5\n",
            "150.0\n",
            "167.0\n",
            "161.25\n",
            "170.0\n"
          ]
        }
      ]
    },
    {
      "cell_type": "markdown",
      "metadata": {
        "id": "ZTviFfsImB_N"
      },
      "source": [
        "- หากเราระบุตำแหน่งเกินจากขนาดของลิสต์ โปรแกรมจะฟ้องออกมาด้วยคำว่า `IndexError` ซึ่งแปลว่าระบุค่าตำแหน่งเกินขนาดของลิสต์ เช่น"
      ]
    },
    {
      "cell_type": "code",
      "metadata": {
        "id": "kAhTcJcVmEY2",
        "colab": {
          "base_uri": "https://localhost:8080/",
          "height": 176
        },
        "outputId": "6cf8a643-d1fe-452c-8bcc-f471455a0589"
      },
      "source": [
        "print(student_heights[10])     # ลิสต์ student_heights มีขนาดแค่ 5 ตัว"
      ],
      "execution_count": null,
      "outputs": [
        {
          "output_type": "error",
          "ename": "IndexError",
          "evalue": "list index out of range",
          "traceback": [
            "\u001b[0;31m---------------------------------------------------------------------------\u001b[0m",
            "\u001b[0;31mIndexError\u001b[0m                                Traceback (most recent call last)",
            "\u001b[0;32m<ipython-input-54-0ae3658e0fa3>\u001b[0m in \u001b[0;36m<cell line: 1>\u001b[0;34m()\u001b[0m\n\u001b[0;32m----> 1\u001b[0;31m \u001b[0mprint\u001b[0m\u001b[0;34m(\u001b[0m\u001b[0mstudent_heights\u001b[0m\u001b[0;34m[\u001b[0m\u001b[0;36m10\u001b[0m\u001b[0;34m]\u001b[0m\u001b[0;34m)\u001b[0m     \u001b[0;31m# ลิสต์ student_heights มีขนาดแค่ 5 ตัว\u001b[0m\u001b[0;34m\u001b[0m\u001b[0;34m\u001b[0m\u001b[0m\n\u001b[0m",
            "\u001b[0;31mIndexError\u001b[0m: list index out of range"
          ]
        }
      ]
    },
    {
      "cell_type": "markdown",
      "metadata": {
        "id": "MdLA2f-GYeug"
      },
      "source": [
        "### การเปลี่ยนแปลงสมาชิกภายในลิสต์\n",
        "- เราสามารถเปลี่ยนแปลงสมาชิกภายในลิสต์ โดยการใช้เครื่องหมาย `=` เหมือนกับการกำหนดค่าในตัวแปร\n",
        "- เช่น เราสามารถเปลี่ยนสมาชิกตัวที่ 2 ของลิสต์ `student_heights` จากค่า 150.0 ให้เป็นค่า 180.0 ได้"
      ]
    },
    {
      "cell_type": "code",
      "metadata": {
        "id": "ynr8_iXdYj9W",
        "colab": {
          "base_uri": "https://localhost:8080/"
        },
        "outputId": "e7ca8b92-b1cd-477c-b51b-1379a2545e73"
      },
      "source": [
        "student_heights[1] = 180.0\n",
        "print(student_heights)"
      ],
      "execution_count": null,
      "outputs": [
        {
          "output_type": "stream",
          "name": "stdout",
          "text": [
            "[163.5, 180.0, 167.0, 161.25, 170.0]\n"
          ]
        }
      ]
    },
    {
      "cell_type": "markdown",
      "metadata": {
        "id": "_gzBvVPJYviv"
      },
      "source": [
        "### การเลือกบางส่วนของลิสต์ (slicing)\n",
        "- นอกจากเราจะสามารถเลือกสมาชิกบางตัวในลิสต์ได้แล้ว เรายังสามารถเลือกบางส่วนของลิสต์ได้ด้วย\n",
        "- **คำสั่งเลือกบางส่วน (slicing):** `ลิสต์[` $a$ `:` $b$ `]` จะเลือกสมาชิกตั้งแต่ index ที่ $a$ จนถึง index ที่ $b - 1$\n",
        "- เช่น ถ้าเราต้องการเลือกสมาชิกตั้งแต่ตัวที่ 2 จนถึงตัวที่ 4 ของลิสต์ในตัวแปร `student_heights` เราจะใช้คำสั่ง `student_heights[1:4]`"
      ]
    },
    {
      "cell_type": "code",
      "metadata": {
        "id": "LSOV3TYrY5EL",
        "colab": {
          "base_uri": "https://localhost:8080/"
        },
        "outputId": "cf3d47f5-c1f4-48ff-c8f4-121626617be2"
      },
      "source": [
        "student_heights"
      ],
      "execution_count": null,
      "outputs": [
        {
          "output_type": "execute_result",
          "data": {
            "text/plain": [
              "[163.5, 180.0, 167.0, 161.25, 170.0]"
            ]
          },
          "metadata": {},
          "execution_count": 56
        }
      ]
    },
    {
      "cell_type": "code",
      "metadata": {
        "id": "sPBA_wlxY5xX",
        "colab": {
          "base_uri": "https://localhost:8080/"
        },
        "outputId": "8aa2d3ed-ccd2-43b3-f27a-a9aa6e800351"
      },
      "source": [
        "student_heights[1:4]"
      ],
      "execution_count": null,
      "outputs": [
        {
          "output_type": "execute_result",
          "data": {
            "text/plain": [
              "[180.0, 167.0, 161.25]"
            ]
          },
          "metadata": {},
          "execution_count": 57
        }
      ]
    },
    {
      "cell_type": "markdown",
      "metadata": {
        "id": "ekhqfdJaY82k"
      },
      "source": [
        "- คำสั่งเลือกบางส่วนสามารถละจุดจบได้ด้วย `ลิสต์[` $a$ `:]`\n",
        "- เช่น เราจะเลือกสมาชิกตั้งแต่ตัวที่ 2 เป็นต้นไปในลิสต์ `student_heights` ด้วยคำสั่ง `student_heights[1:]`"
      ]
    },
    {
      "cell_type": "code",
      "metadata": {
        "id": "We76_O54Y_fU",
        "colab": {
          "base_uri": "https://localhost:8080/"
        },
        "outputId": "8073acfd-8fe0-459c-a752-ef7a5ef2042f"
      },
      "source": [
        "student_heights[1:]"
      ],
      "execution_count": null,
      "outputs": [
        {
          "output_type": "execute_result",
          "data": {
            "text/plain": [
              "[180.0, 167.0, 161.25, 170.0]"
            ]
          },
          "metadata": {},
          "execution_count": 58
        }
      ]
    },
    {
      "cell_type": "markdown",
      "metadata": {
        "id": "htg-oDPQZCmx"
      },
      "source": [
        "- คำสั่งเลือกบางส่วนสามารถละจุดตั้งต้นได้ด้วย `ลิสต์[:` $b$ `]`\n",
        "- เช่น เราจะเลือกสมาชิกตั้งแต่ตัวแรกจนถึงตัวที่ 4 ด้วยคำสั่ง `student_heights[:4]`"
      ]
    },
    {
      "cell_type": "code",
      "metadata": {
        "id": "P8UCDuBgZFQp",
        "colab": {
          "base_uri": "https://localhost:8080/"
        },
        "outputId": "fa36ec60-4995-464b-a7b0-aff3dd62a11e"
      },
      "source": [
        "student_heights[:4]"
      ],
      "execution_count": null,
      "outputs": [
        {
          "output_type": "execute_result",
          "data": {
            "text/plain": [
              "[163.5, 180.0, 167.0, 161.25]"
            ]
          },
          "metadata": {},
          "execution_count": 59
        }
      ]
    },
    {
      "cell_type": "markdown",
      "metadata": {
        "id": "0r7Q5MZBZKQs"
      },
      "source": [
        "### แบบฝึกหัด 4.3\n",
        "ในแบบฝึกหัดนี้ เรามีลิสต์ `my_list` ที่มีสมาชิก 10 ตัวดังนี้"
      ]
    },
    {
      "cell_type": "code",
      "metadata": {
        "id": "1OvQSq1pZQIN"
      },
      "source": [
        "my_list = [10, 20, 30, 40, 50, 60, 70, 80, 90, 100]\n",
        "#             1    2    3    4    5   6    7    8    9    10"
      ],
      "execution_count": null,
      "outputs": []
    },
    {
      "cell_type": "markdown",
      "metadata": {
        "id": "z32_bTD3ZSVk"
      },
      "source": [
        "1. จงเลือกสมาชิกตัวที่ 3 จนถึงตัวที่ 7"
      ]
    },
    {
      "cell_type": "code",
      "metadata": {
        "id": "-b4GOXLIZTyx",
        "colab": {
          "base_uri": "https://localhost:8080/"
        },
        "outputId": "2d5d2b3d-3985-4658-99d1-1bf81a7e7ba3"
      },
      "source": [
        "my_list[2:7]"
      ],
      "execution_count": null,
      "outputs": [
        {
          "output_type": "execute_result",
          "data": {
            "text/plain": [
              "[30, 40, 50, 60, 70]"
            ]
          },
          "metadata": {},
          "execution_count": 62
        }
      ]
    },
    {
      "cell_type": "markdown",
      "metadata": {
        "id": "xvlnNGQIZUTZ"
      },
      "source": [
        "2. จงเลือกสมาชิกตัวที่ 2 จนถึงตัวที่ 5"
      ]
    },
    {
      "cell_type": "code",
      "metadata": {
        "id": "n0T01AqMZXhy",
        "colab": {
          "base_uri": "https://localhost:8080/"
        },
        "outputId": "a9fab399-8c6e-4569-ba79-d7a67aa18860"
      },
      "source": [
        "my_list[1:5]"
      ],
      "execution_count": null,
      "outputs": [
        {
          "output_type": "execute_result",
          "data": {
            "text/plain": [
              "[20, 30, 40, 50]"
            ]
          },
          "metadata": {},
          "execution_count": 63
        }
      ]
    },
    {
      "cell_type": "markdown",
      "metadata": {
        "id": "4cWVTk_GZX7h"
      },
      "source": [
        "3. จงเลือกสมาชิกตั้งแต่ตัวแรกจนถึงตัวที่ 8"
      ]
    },
    {
      "cell_type": "code",
      "metadata": {
        "id": "q7Q-e9EsZaFC",
        "colab": {
          "base_uri": "https://localhost:8080/"
        },
        "outputId": "1794ae29-4c08-46bb-9ec4-70abe6b1b797"
      },
      "source": [
        "my_list[:8]"
      ],
      "execution_count": null,
      "outputs": [
        {
          "output_type": "execute_result",
          "data": {
            "text/plain": [
              "[10, 20, 30, 40, 50, 60, 70, 80]"
            ]
          },
          "metadata": {},
          "execution_count": 64
        }
      ]
    },
    {
      "cell_type": "markdown",
      "metadata": {
        "id": "fhW3fQEyZa5k"
      },
      "source": [
        "4. จงเลือกสมาชิกตั้งแต่ตัวที่ 4 เป็นต้นไป"
      ]
    },
    {
      "cell_type": "code",
      "metadata": {
        "id": "BFvEcdFiZc4u",
        "colab": {
          "base_uri": "https://localhost:8080/"
        },
        "outputId": "17538588-730a-4931-cb11-a98090d9fe89"
      },
      "source": [
        "my_list[3:]"
      ],
      "execution_count": null,
      "outputs": [
        {
          "output_type": "execute_result",
          "data": {
            "text/plain": [
              "[40, 50, 60, 70, 80, 90, 100]"
            ]
          },
          "metadata": {},
          "execution_count": 65
        }
      ]
    },
    {
      "cell_type": "markdown",
      "metadata": {
        "id": "08Nqd6VeZq4D"
      },
      "source": [
        "### การเพิ่มสมาชิกในลิสต์ด้วยคำสั่ง `append`\n",
        "- **คำสั่ง `append`:** เราจะนำสมาชิกใหม่ต่อท้ายลิสต์ด้วยคำสั่ง `ลิสต์.append(` $e$ `)` เมื่อ $e$ คือสมาชิกใหม่ตัวนั้น\n",
        "- เช่น เราสามารถต่อท้ายตัวเลข 1 ถึง 5 ที่ท้ายลิสต์ `my_numbers` ได้ดังนี้"
      ]
    },
    {
      "cell_type": "code",
      "metadata": {
        "id": "sULCT_NGJNUh",
        "colab": {
          "base_uri": "https://localhost:8080/"
        },
        "outputId": "167f37f0-8033-4333-de86-1794fabe2ab4"
      },
      "source": [
        "my_numbers = [11, 12, 13, 14, 15]\n",
        "\n",
        "print(my_numbers)\n",
        "\n",
        "my_numbers.append(1)\n",
        "my_numbers.append(2)\n",
        "my_numbers.append(3)\n",
        "my_numbers.append(4)\n",
        "my_numbers.append(5)\n",
        "\n",
        "print(my_numbers)"
      ],
      "execution_count": null,
      "outputs": [
        {
          "output_type": "stream",
          "name": "stdout",
          "text": [
            "[11, 12, 13, 14, 15]\n",
            "[11, 12, 13, 14, 15, 1, 2, 3, 4, 5]\n"
          ]
        }
      ]
    },
    {
      "cell_type": "markdown",
      "metadata": {
        "id": "pN5u-0-vMIcU"
      },
      "source": [
        "### การเพิ่มสมาชิกในลิสต์ด้วยคำสั่ง `insert`\n",
        "- **คำสั่ง `insert`:** เราจะแทรกสมาชิกใหม่เข้าไปใน index ที่กำหนดด้วยคำสั่ง `ลิสต์.insert(` $i$ `,` $e$ `)` เมื่อ $i$ คือ index ที่เราจะแทรกสมาชิกใหม่ลงไป และ $e$ คือสมาชิกใหม่ตัวนั้น"
      ]
    },
    {
      "cell_type": "code",
      "metadata": {
        "id": "UYa33JN2MPJt",
        "colab": {
          "base_uri": "https://localhost:8080/"
        },
        "outputId": "aa7f9c19-e55f-497e-94e6-719033389935"
      },
      "source": [
        "my_numbers = [20, 40, 60, 80, 100]\n",
        "print(my_numbers)\n",
        "my_numbers.insert(2, 70)\n",
        "print(my_numbers)"
      ],
      "execution_count": null,
      "outputs": [
        {
          "output_type": "stream",
          "name": "stdout",
          "text": [
            "[20, 40, 60, 80, 100]\n",
            "[20, 40, 70, 60, 80, 100]\n"
          ]
        }
      ]
    },
    {
      "cell_type": "code",
      "source": [
        "a = [1,2,3,[4,5,6]]\n",
        "b = [4,5,6]\n",
        "a.append(b)\n",
        "print(a)"
      ],
      "metadata": {
        "colab": {
          "base_uri": "https://localhost:8080/"
        },
        "id": "KikbuVdR9pOK",
        "outputId": "c2fc1fd7-d6c7-4126-a2df-e918c23f4a3e"
      },
      "execution_count": null,
      "outputs": [
        {
          "output_type": "stream",
          "name": "stdout",
          "text": [
            "[1, 2, 3, [4, 5, 6]]\n"
          ]
        }
      ]
    },
    {
      "cell_type": "markdown",
      "metadata": {
        "id": "eRqLthGwMZQl"
      },
      "source": [
        "### การเพิ่มสมาชิกในลิสต์ด้วยคำสั่ง `extend`\n",
        "- นอกจากนี้เรายังสามารถเพิ่มเติมสมาชิกจากลิสต์อื่นเข้าไปต่อท้ายลิสต์ที่เราสนใจได้ด้วยคำสั่ง `ลิสต์ปลายทาง.extend(ลิสต์ต้นทาง)`\n",
        "- ข้อแตกต่างสำคัญระหว่าง `extend` กับ `append` ก็คือ `extend` จะนำสมาชิกทุกตัวในลิสต์ต้นทางมาต่อท้ายลิสต์ปลายทาง ส่วน `append` จะนำสมาชิกหนึ่งตัวมาต่อท้ายลิสต์\n",
        "- เช่น เราสามารถเพิ่มสมาชิกจากลิสต์ `[11, 12, 13, 14, 15]` ไปต่อท้ายลิสต์ `my_list` ได้ด้วยโปรแกรมนี้"
      ]
    },
    {
      "cell_type": "code",
      "metadata": {
        "id": "vLNuf-lOMi7z",
        "colab": {
          "base_uri": "https://localhost:8080/"
        },
        "outputId": "3342cdc3-2552-4b6b-84ca-ee43d6df877d"
      },
      "source": [
        "my_list = [1, 2, 3, 4, 5]\n",
        "my_list2 = [1, 2, 3, 4, 5]\n",
        "new_list = [11, 12, 13, 14, 15]\n",
        "\n",
        "my_list.extend(new_list)\n",
        "my_list2.append(new_list)\n",
        "print(my_list)\n",
        "print(my_list2)"
      ],
      "execution_count": null,
      "outputs": [
        {
          "output_type": "stream",
          "name": "stdout",
          "text": [
            "[1, 2, 3, 4, 5, 11, 12, 13, 14, 15]\n",
            "[1, 2, 3, 4, 5, [11, 12, 13, 14, 15]]\n"
          ]
        }
      ]
    },
    {
      "cell_type": "markdown",
      "metadata": {
        "id": "3Zp7ovE6Mt3f"
      },
      "source": [
        "### การลบสมาชิกในลิสต์ด้วยคำสั่ง `del`\n",
        "- เราสามารถลบสมาชิกในลิสต์ได้ด้วยคำสั่ง `del`\n",
        "- เช่น เราสามารถลบสมาชิกที่ index ที่ 2 ออกจากลิสต์ `my_numbers` ได้ด้วยคำสั่ง `del my_numbers[2]` ดังนี้"
      ]
    },
    {
      "cell_type": "code",
      "metadata": {
        "id": "R3r4PB46MzRu",
        "colab": {
          "base_uri": "https://localhost:8080/"
        },
        "outputId": "a78d55fa-b9b1-4154-997c-93831e199182"
      },
      "source": [
        "my_numbers = [11, 12, 13, 14, 15]\n",
        "del my_numbers[2]\n",
        "print(my_numbers)"
      ],
      "execution_count": null,
      "outputs": [
        {
          "output_type": "stream",
          "name": "stdout",
          "text": [
            "[11, 12, 14, 15]\n"
          ]
        }
      ]
    },
    {
      "cell_type": "markdown",
      "metadata": {
        "id": "WR9MLWyMM3c1"
      },
      "source": [
        "- นอกจากนี้เรายังสามารถลบสมาชิกออกจากลิสต์แบบเป็นช่วงๆ ได้ด้วย\n",
        "- เช่น เราสามารถลบสมาชิก index ที่ 1 ถึง 3 ออกจากลิสต์ `my_numbers` ได้ดังนี้"
      ]
    },
    {
      "cell_type": "code",
      "metadata": {
        "id": "7SrxrEjPM7xx",
        "colab": {
          "base_uri": "https://localhost:8080/"
        },
        "outputId": "0c7f4c29-0aa9-4909-b3c9-485a121cadbb"
      },
      "source": [
        "my_numbers = [11, 12, 13, 14, 15]\n",
        "del my_numbers[1:4]\n",
        "print(my_numbers)"
      ],
      "execution_count": null,
      "outputs": [
        {
          "output_type": "stream",
          "name": "stdout",
          "text": [
            "[11, 15]\n"
          ]
        }
      ]
    },
    {
      "cell_type": "markdown",
      "metadata": {
        "id": "pfJ9fO3COu6-"
      },
      "source": [
        "### การเรียงลำดับสมาชิกในลิสต์\n",
        "- ในภาษา Python จะมีคำสั่งสำหรับเรียงลำดับสมาชิกในลิสต์อยู่ 2 คำสั่งคือ `sort` และ `sorted`\n",
        "- **คำสั่ง `ลิสต์.sort()`** จะเรียงลำดับสมาชิกภายในลิสต์โดยจะทับลิสต์ตัวเดิม\n",
        "- ทั้งนี้โปรดสังเกตว่า เราจะใช้คำสั่ง `sort` นี้ต่อท้ายลิสต์ที่เราต้องการ"
      ]
    },
    {
      "cell_type": "code",
      "metadata": {
        "id": "7KC1Vmh6O7a4",
        "colab": {
          "base_uri": "https://localhost:8080/"
        },
        "outputId": "33953ef1-d03c-4b91-efa8-17bd55ca5a52"
      },
      "source": [
        "items = [3, 8, 5, 10, 2, 9, 7, 6, 3, 8, 1, 4]\n",
        "items.sort()\n",
        "print(items)"
      ],
      "execution_count": null,
      "outputs": [
        {
          "output_type": "stream",
          "name": "stdout",
          "text": [
            "[1, 2, 3, 3, 4, 5, 6, 7, 8, 8, 9, 10]\n"
          ]
        }
      ]
    },
    {
      "cell_type": "markdown",
      "metadata": {
        "id": "9MNKVwKjO9_2"
      },
      "source": [
        "- ในขณะที่ **คำสั่ง `sorted()`** จะสร้างลิสต์ใหม่ที่เป็นผลลัพธ์จากการเรียงลำดับสมาชิกในลิสต์ตัวเดิม\n",
        "- ทั้งนี้โปรดสังเกตว่า เราจะใช้คำสั่ง `sorted` คร่อมลิสต์ที่เราต้องการ"
      ]
    },
    {
      "cell_type": "code",
      "metadata": {
        "id": "WyBtjYn6PBLp",
        "colab": {
          "base_uri": "https://localhost:8080/"
        },
        "outputId": "966aa9c2-c649-49c4-d325-f0d5043d952c"
      },
      "source": [
        "old_items = [3, 8, 5, 10, 2, 9, 7, 6, 3, 8, 1, 4]\n",
        "new_items = sorted(old_items)\n",
        "print('Old items:', old_items)\n",
        "print('New items:', new_items)"
      ],
      "execution_count": null,
      "outputs": [
        {
          "output_type": "stream",
          "name": "stdout",
          "text": [
            "Old items: [3, 8, 5, 10, 2, 9, 7, 6, 3, 8, 1, 4]\n",
            "New items: [1, 2, 3, 3, 4, 5, 6, 7, 8, 8, 9, 10]\n"
          ]
        }
      ]
    },
    {
      "cell_type": "markdown",
      "metadata": {
        "id": "R4FVkhF3PEV8"
      },
      "source": [
        "- เราสามารถระบุทิศทางของการเรียงลำดับสมาชิกให้เรียงย้อนหลังได้ด้วยออพชั่น `reverse=True`"
      ]
    },
    {
      "cell_type": "code",
      "metadata": {
        "id": "kzdk7n10PGjv",
        "colab": {
          "base_uri": "https://localhost:8080/"
        },
        "outputId": "48bedbce-682d-409a-ff52-524b5f9e1ef3"
      },
      "source": [
        "items = [3, 8, 5, 10, 2, 9, 7, 6, 3, 8, 1, 4]\n",
        "items.sort(reverse=True)\n",
        "sorted_items = sorted(items, reverse=True)\n",
        "print(items)\n",
        "print(sorted_items)"
      ],
      "execution_count": null,
      "outputs": [
        {
          "output_type": "stream",
          "name": "stdout",
          "text": [
            "[10, 9, 8, 8, 7, 6, 5, 4, 3, 3, 2, 1]\n",
            "[10, 9, 8, 8, 7, 6, 5, 4, 3, 3, 2, 1]\n"
          ]
        }
      ]
    },
    {
      "cell_type": "markdown",
      "metadata": {
        "id": "TsXh1SVJZdWr"
      },
      "source": [
        "## หัวข้อที่ 5: ข้อความ"
      ]
    },
    {
      "cell_type": "markdown",
      "metadata": {
        "id": "-z8kP4yGZ2vG"
      },
      "source": [
        "- ในกิจกรรม 1 เราได้ทดลองพิมพ์ข้อความออกหน้าจอกันไปแล้ว\n",
        "- จริงๆ แล้ว ข้อความ (string) ก็เป็นข้อมูลรูปแบบหนึ่งที่เราสามารถประมวลผลได้และทดไว้ในตัวแปรได้เช่นเดียวกัน\n",
        "- เช่น เราสามารถเก็บข้อความ `'Hello'` ไว้ในตัวแปร `message` ได้"
      ]
    },
    {
      "cell_type": "code",
      "metadata": {
        "id": "DrQCAUR1Z9_K",
        "colab": {
          "base_uri": "https://localhost:8080/"
        },
        "outputId": "33a7aafe-df7d-4667-d4d6-51cdddee6919"
      },
      "source": [
        "message = 'Hello'\n",
        "print(message)\n",
        "type(message)"
      ],
      "execution_count": null,
      "outputs": [
        {
          "output_type": "stream",
          "name": "stdout",
          "text": [
            "Hello\n"
          ]
        },
        {
          "output_type": "execute_result",
          "data": {
            "text/plain": [
              "str"
            ]
          },
          "metadata": {},
          "execution_count": 77
        }
      ]
    },
    {
      "cell_type": "markdown",
      "metadata": {
        "id": "4jSnuXgAaAWU"
      },
      "source": [
        "### การต่อข้อความ\n",
        "- เราสามารถนำข้อความ 2 อันมาต่อกันได้ด้วยเครื่องหมาย `+`\n",
        "- เช่น เราจะต่อข้อความในตัวแปร `message1` และ `message2` เข้าด้วยกันได้ดังนี้"
      ]
    },
    {
      "cell_type": "code",
      "metadata": {
        "id": "5dU3_1hwaEQf",
        "colab": {
          "base_uri": "https://localhost:8080/"
        },
        "outputId": "d85b57dd-b385-4b7d-f07e-6f17f751d613"
      },
      "source": [
        "message1 = 'Hello '\n",
        "message2 = 'World!'\n",
        "message = message1 + message2\n",
        "print(message)\n",
        "\n",
        "a = 5\n",
        "\n",
        "print(message1+message2+str(a))"
      ],
      "execution_count": null,
      "outputs": [
        {
          "output_type": "stream",
          "name": "stdout",
          "text": [
            "Hello World!\n",
            "Hello World!5\n"
          ]
        }
      ]
    },
    {
      "cell_type": "markdown",
      "metadata": {
        "id": "RZBIFe9daH1v"
      },
      "source": [
        "### การทำซ้ำข้อความ\n",
        "- นอกจากนี้เรายังสามารถทำซ้ำข้อความได้ด้วยเครื่องหมาย `*`\n",
        "- เช่น ถ้าเราต้องการทำซ้ำข้อความ `hello` 3 รอบ เราจะทำอย่างนี้ครับ"
      ]
    },
    {
      "cell_type": "code",
      "metadata": {
        "id": "PMXUIvGFaRtE",
        "colab": {
          "base_uri": "https://localhost:8080/"
        },
        "outputId": "af2339a7-e951-47d2-d801-a5434e37c2ca"
      },
      "source": [
        "print(3 * 'hello ')"
      ],
      "execution_count": null,
      "outputs": [
        {
          "output_type": "stream",
          "name": "stdout",
          "text": [
            "hello hello hello \n"
          ]
        }
      ]
    },
    {
      "cell_type": "markdown",
      "metadata": {
        "id": "ByiY-nZ_utjg"
      },
      "source": [
        "### แบบฝึกหัด 5.1\n",
        "จงสร้างตัวแปร 2 ตัว\n",
        "\n",
        "- `message1` เก็บข้อความ `'Hello '`\n",
        "- `message2` เก็บข้อความ `'World '`\n",
        "\n",
        "หลังจากนั้นให้ทำซ้ำ `message1` 3 ครั้ง และ `message2` 5 ครั้ง นำผลลัพธ์ทั้งสองอันมาต่อกัน แล้วนำมาเก็บในตัวแปร `message3`"
      ]
    },
    {
      "cell_type": "code",
      "metadata": {
        "id": "wXzKjICsu4IY",
        "colab": {
          "base_uri": "https://localhost:8080/"
        },
        "outputId": "4d060a07-f829-464e-f7c1-5e384c57cf33"
      },
      "source": [
        "message1 = 'Hello '\n",
        "message2 = 'World '\n",
        "message3 = (3*message1)+(5*message2 )\n",
        "print(message3)"
      ],
      "execution_count": null,
      "outputs": [
        {
          "output_type": "stream",
          "name": "stdout",
          "text": [
            "Hello Hello Hello World World World World World \n"
          ]
        }
      ]
    },
    {
      "cell_type": "markdown",
      "metadata": {
        "id": "bfS7mRIcu5HU"
      },
      "source": [
        "### ข้อความในฐานะของลิสต์\n",
        "- ในภาษา Python ข้อความคือลิสต์ของตัวอักษร\n",
        "- เราสามารถเข้าถึงตัวอักษรสมาชิกแต่ละตัวในข้อความได้"
      ]
    },
    {
      "cell_type": "code",
      "metadata": {
        "id": "NdDRhlfrvCZa",
        "colab": {
          "base_uri": "https://localhost:8080/"
        },
        "outputId": "856822a5-d363-4660-e486-75e3fb2a4793"
      },
      "source": [
        "message = 'hello'\n",
        "print(message[0])\n",
        "print(message[1])\n",
        "print(message[2])\n",
        "print(message[3])\n",
        "print(message[4])"
      ],
      "execution_count": null,
      "outputs": [
        {
          "output_type": "stream",
          "name": "stdout",
          "text": [
            "h\n",
            "e\n",
            "l\n",
            "l\n",
            "o\n"
          ]
        }
      ]
    },
    {
      "cell_type": "markdown",
      "metadata": {
        "id": "t-TgxUItvFHe"
      },
      "source": [
        "- นอกจากนี้ เรายังสามารถเลือกบางส่วนของข้อความมาได้ด้วย เหมือนอย่างที่เราเลือกบางส่วนของลิสต์\n",
        "- เช่น เราสามารถเลือกตั้งแต่ตัวอักษร index ที่ 1 จนถึง index ที่ 3 ได้ด้วยคำสั่งนี้"
      ]
    },
    {
      "cell_type": "code",
      "metadata": {
        "id": "uXShmpM8vKNB",
        "colab": {
          "base_uri": "https://localhost:8080/",
          "height": 35
        },
        "outputId": "81a1805d-ee93-49dc-fdde-72f240d027da"
      },
      "source": [
        "message[1:4]"
      ],
      "execution_count": null,
      "outputs": [
        {
          "output_type": "execute_result",
          "data": {
            "text/plain": [
              "'ell'"
            ],
            "application/vnd.google.colaboratory.intrinsic+json": {
              "type": "string"
            }
          },
          "metadata": {},
          "execution_count": 89
        }
      ]
    },
    {
      "cell_type": "markdown",
      "metadata": {
        "id": "KQDUzifWvK8L"
      },
      "source": [
        "- แต่ทั้งนี้เราไม่สามารถแก้ไขสมาชิกในข้อความได้นะครับ"
      ]
    },
    {
      "cell_type": "code",
      "metadata": {
        "id": "chEQCXqnvNga",
        "colab": {
          "base_uri": "https://localhost:8080/",
          "height": 176
        },
        "outputId": "0b20a4e3-6e45-4ddf-a49e-75afa934fa44"
      },
      "source": [
        "message[1] = 'E'"
      ],
      "execution_count": null,
      "outputs": [
        {
          "output_type": "error",
          "ename": "TypeError",
          "evalue": "'str' object does not support item assignment",
          "traceback": [
            "\u001b[0;31m---------------------------------------------------------------------------\u001b[0m",
            "\u001b[0;31mTypeError\u001b[0m                                 Traceback (most recent call last)",
            "\u001b[0;32m<ipython-input-90-46d905fec706>\u001b[0m in \u001b[0;36m<cell line: 1>\u001b[0;34m()\u001b[0m\n\u001b[0;32m----> 1\u001b[0;31m \u001b[0mmessage\u001b[0m\u001b[0;34m[\u001b[0m\u001b[0;36m1\u001b[0m\u001b[0;34m]\u001b[0m \u001b[0;34m=\u001b[0m \u001b[0;34m'E'\u001b[0m\u001b[0;34m\u001b[0m\u001b[0;34m\u001b[0m\u001b[0m\n\u001b[0m",
            "\u001b[0;31mTypeError\u001b[0m: 'str' object does not support item assignment"
          ]
        }
      ]
    },
    {
      "cell_type": "markdown",
      "metadata": {
        "id": "Vw5YxAcm4VXt"
      },
      "source": [
        "###การจัดฟอร์แมตของข้อความ\n",
        "- เราสามารถจัดรูปแบบของข้อความก่อนที่จะแสดงผลได้\n",
        "\n",
        "- วิธีการคือ เราจะใช้สัญลักษณ์ `f` นำหน้าข้อความที่เราต้องการจะให้จัดรูปแบบ ซึ่งสัญลักษณ์ `f` ย่อมาจากคำว่า format (รูปแบบ) นั่นเอง\n",
        "\n",
        "- ข้อดีของการใช้สัญลักษณ์ `f` นำหน้าสตริงก็คือ เราสามารถแทรกค่าตัวแปรลงไปตำแหน่งใดของข้อความก็ได้ เพียงแค่ครอบตัวแปรด้วยปีกกา `{ }` เท่านั้น"
      ]
    },
    {
      "cell_type": "code",
      "metadata": {
        "id": "iroxkYFH44JM",
        "colab": {
          "base_uri": "https://localhost:8080/"
        },
        "outputId": "f489b3c9-1605-46b3-fe9f-6ecf09632448"
      },
      "source": [
        "name = 'Peter'\n",
        "telno = '533-7855'\n",
        "age = 27\n",
        "degree = 'high-school'\n",
        "\n",
        "print(f'My name is {name:10} and I am {age} years old. I am still a {degree} student and my phone number is {telno}.')"
      ],
      "execution_count": null,
      "outputs": [
        {
          "output_type": "stream",
          "name": "stdout",
          "text": [
            "My name is Peter      and I am 27 years old. I am still a high-school student and my phone number is 533-7855.\n"
          ]
        }
      ]
    },
    {
      "cell_type": "markdown",
      "metadata": {
        "id": "dRKofRFQ8DSX"
      },
      "source": [
        "### การกำหนดความกว้างของข้อความและตัวแปร\n",
        "- ในกรณีของข้อความ เราสามารถระบุความกว้างสูงสุดของข้อความได้ด้วยคำสั่ง `{ตัวแปรสตริง:ความกว้าง}`\n",
        "- ในการจัดฟอร์แมตให้ตัวเลข เราสามารถระบุชนิดของตัวเลขได้ที่หลังความกว้างของข้อความ\n",
        "  - ตัวเลขจำนวนเต็มจะใช้ออพชั่น `d` ตามหลังตัวเลข\n",
        "  - ตัวเลขจำนวนจริงจะใช้ออพชั่น `f` ตามหลังตัวเลข\n",
        "  - ในกรณีที่เป็นตัวเลขจำนวนจริง เราสามารถระบุได้ทั้งความกว้างและจำนวนหลักทศนิยม โดยใช้รูปแบบเป็น `ความกว้าง.จำนวนหลักทศนิยมf`\n",
        "\n",
        " - <u>**ข้อควรระวัง:**</u> ความกว้างตรงนี้เป็นความกว้างทั้งหมด ซึ่งรวมเอาจุดทศนิยมและหลักทศนิยมเข้าไปแล้ว ท่านจึงควรระมัดระวังตอนกำหนดความกว้างทั้งหมดให้ดี\n",
        "\n",
        " - เช่น เราสามารถแสดงคะแนนของนักเรียน `score` ให้มีความกว้าง 10 ตัวอักษร และมีทศนิยม 2 ตำแหน่งได้โดยใช้ฟอร์แมต `{score:10.2f}`\n",
        "\n",
        "- โดยปกติแล้ว ข้อความจะถูกแสดงผลแบบชิดซ้ายเสมอ\n",
        "- แต่เราสามารถกำหนดให้จัดสตริงไปทางซ้าย กลาง หรือขวาได้ ด้วยออพชั่น `<`, `^`, และ `>` ที่ด้านหน้าความกว้างของข้อความ\n",
        "\n"
      ]
    },
    {
      "cell_type": "code",
      "metadata": {
        "id": "MbVn0_l-_np6",
        "colab": {
          "base_uri": "https://localhost:8080/"
        },
        "outputId": "6ab47a0e-be2e-4d54-d492-1b24dab4329b"
      },
      "source": [
        "peter = ['Peter', 27, 70.3]\n",
        "alex = ['Alex', 29, 83.26]\n",
        "\n",
        "print(f'|{\"Name\":^10}|{\"Age\":^10}|{\"Score\":^10}|')\n",
        "print(34*'-')\n",
        "print(f'|{peter[0]:<10}|{peter[1]:^10d}|{peter[2]:^10.2f}|')\n",
        "print(f'|{alex[0]:<10}|{alex[1]:^10d}|{alex[2]:^10.2f}|')"
      ],
      "execution_count": null,
      "outputs": [
        {
          "output_type": "stream",
          "name": "stdout",
          "text": [
            "|   Name   |   Age    |  Score   |\n",
            "----------------------------------\n",
            "|Peter     |    27    |  70.30   |\n",
            "|Alex      |    29    |  83.26   |\n"
          ]
        }
      ]
    },
    {
      "cell_type": "markdown",
      "metadata": {
        "id": "rL-TUWmcwY5-"
      },
      "source": [
        "## หัวข้อที่ 6: การรับข้อมูลผ่านคีย์บอร์ด"
      ]
    },
    {
      "cell_type": "markdown",
      "metadata": {
        "id": "QQ3PsjE8weKK"
      },
      "source": [
        "- เราสามารถรับอินพุตจากคีย์บอร์ดได้ด้วยคำสั่ง `input` แต่เวลาสั่งคำสั่งนี้แล้ว จะต้องหาตัวแปรมาเก็บค่าอินพุตที่รับมาด้วยเสมอ"
      ]
    },
    {
      "cell_type": "code",
      "metadata": {
        "id": "XvNaq9u_wnlC",
        "colab": {
          "base_uri": "https://localhost:8080/"
        },
        "outputId": "1fcdef2b-597c-4dfd-f133-fe557223e9c2"
      },
      "source": [
        "my_name = input('Enter your name: ')      # ใส่ข้อความเตือนผู้ใช้ที่ตรงนี้\n",
        "print('Hello,', my_name)"
      ],
      "execution_count": null,
      "outputs": [
        {
          "output_type": "stream",
          "name": "stdout",
          "text": [
            "Enter your name: ping\n",
            "Hello, ping\n"
          ]
        }
      ]
    },
    {
      "cell_type": "markdown",
      "metadata": {
        "id": "LRpIYhcuwqZN"
      },
      "source": [
        "- ค่าที่รับมาได้จะอยู่ในรูปข้อความ (string) เสมอ\n",
        "- หากเราต้องการรับค่าตัวเลข เราจำเป็นต้องแปลงข้อความกลับมาเป็นตัวเลขด้วยคำสั่ง `int` และ `float` ตามลำดับครับ\n",
        "  - คำสั่ง `int` จะแปลงข้อความเป็นจำนวนเต็ม เช่น 10, 20, 30\n",
        "  - คำสั่ง `float` จะแปลงข้อความเป็นจำนวนจริง เช่น 0.25, 3.5, 10.0"
      ]
    },
    {
      "cell_type": "code",
      "metadata": {
        "id": "oPH6dGWswu9P",
        "colab": {
          "base_uri": "https://localhost:8080/"
        },
        "outputId": "9f6333e2-7730-4d76-e946-847439a50bc6"
      },
      "source": [
        "my_salary_str = input('Enter your salary: ')\n",
        "try:\n",
        "  my_salary = int(my_salary_str)                       # ต้องแปลงข้อความให้เป็นจำนวนเต็มก่อน\n",
        "  next_year_salary = my_salary + (my_salary * 0.1)     # จึงจะนำค่ามาคำนวณได้\n",
        "  print('Salary in next year ', next_year_salary)\n",
        "except:\n",
        "  print('Enter wrong input format')\n"
      ],
      "execution_count": null,
      "outputs": [
        {
          "output_type": "stream",
          "name": "stdout",
          "text": [
            "Enter your salary: 10000a\n",
            "Enter wrong input format\n"
          ]
        }
      ]
    },
    {
      "cell_type": "markdown",
      "metadata": {
        "id": "kNGflai2xqHj"
      },
      "source": [
        "- ลองรันโปรแกรมด้านบนใหม่อีกรอบ แต่คราวนี้ใส่เป็นข้อความที่ไม่ใช่จำนวนเต็มดูบ้างครับ เช่น `'Hello'` หรือ `100.5` โปรแกรมจะระเบิดทันที\n",
        "- ที่โปรแกรมฟ้องว่า `ValueError` นั้นหมายความว่า โปรแกรมไม่สามารถแปลงข้อความให้กลายเป็นตัวเลขได้นั่นเอง"
      ]
    },
    {
      "cell_type": "markdown",
      "metadata": {
        "id": "rZYNIKMSyLZe"
      },
      "source": [
        "### แบบฝึกหัด 6.1\n",
        "จงเขียนโปรแกรมเพื่อรับข้อมูล 2 ตัวได้แก่ ความว้าง และความยาวของรูปสี่เหลี่ยม\n",
        "หลังจากนั้น คำนวณพื้นที่ของรูปสี่เหลี่ยม และแสดงผลออกทางหน้าจอ\n",
        "\n",
        "$$ \\mathtt{area} =  \\mathtt{width} \\times \\mathtt{height} $$"
      ]
    },
    {
      "cell_type": "code",
      "metadata": {
        "id": "cf-ddzF2ywe8",
        "colab": {
          "base_uri": "https://localhost:8080/"
        },
        "outputId": "1adb8130-1683-4a49-9635-ebbccd60a67c"
      },
      "source": [
        "width = float(input('Please enter width: '))\n",
        "height = float(input('Please enter heigth: '))\n",
        "area = width*height\n",
        "print('Area of rectangle =',area)"
      ],
      "execution_count": null,
      "outputs": [
        {
          "output_type": "stream",
          "name": "stdout",
          "text": [
            "Please enter width: 3.5\n",
            "Please enter heigth: 6.2\n",
            "Area of rectangle = 21.7\n"
          ]
        }
      ]
    },
    {
      "cell_type": "markdown",
      "metadata": {
        "id": "eNIJpCOKYBNO"
      },
      "source": [
        "## หัวข้อที่ 7: การวนซ้ำ"
      ]
    },
    {
      "cell_type": "markdown",
      "metadata": {
        "id": "zZakMI8FYLXh"
      },
      "source": [
        "- เราสามารถใช้วิธีการวนลูป (loop) เพื่อทำกระบวนการเดิมซ้ำๆ ได้"
      ]
    },
    {
      "cell_type": "markdown",
      "metadata": {
        "id": "bTxj6-wzYZFp"
      },
      "source": [
        "### ลูปฟอร์ (for-loop)\n",
        "- ลูปฟอร์ (for-loop) ใช้สำหรับทำกระบวนการเดิมซ้ำๆ กับสมาชิกแต่ละตัวในลิสต์ <u>**ตามลำดับ**</u>\n",
        "  - รูปแบบคำสั่งของลูปฟอร์คือ\n",
        "```python\n",
        "    for <ตัวแปร> in <ลิสต์> :\n",
        "        <กระบวนการ>\n",
        "```\n",
        "  - คำสั่งนี้จะแทนสมาชิกแต่ละตัวในลิสต์ด้วยตัวแปรที่กำหนด แล้วจึงทำซ้ำกระบวนการนี้จนกว่าจะใช้สมาชิกครบทุกตัวตามลำดับ\n",
        "  \n",
        "- เช่น ถ้าเราต้องการพิมพ์สมาชิกแต่ละตัวในลิสต์ `student_heights` ออกมา เราจะสั่งคำสั่งดังนี้"
      ]
    },
    {
      "cell_type": "code",
      "metadata": {
        "id": "bOKQe9FwYke0",
        "colab": {
          "base_uri": "https://localhost:8080/"
        },
        "outputId": "43043410-ae66-4353-dde0-cb771f9ccd10"
      },
      "source": [
        "# ลิสต์ความสูงของนักเรียนในกลุ่ม\n",
        "student_heights = [163.5, 150.0, 167.0, 161.25, 170.0]\n",
        "\n",
        "# สมาชิกแต่ละตัวของลิสต์ student_heights จะแทนด้วยตัวแปร height\n",
        "for height in student_heights:\n",
        "    # พิมพ์ค่าของตัวแปร height ออกหน้าจอ\n",
        "                print('Height is: ')\n",
        "                print(height)\n",
        "\n",
        "print('That is all.')"
      ],
      "execution_count": null,
      "outputs": [
        {
          "output_type": "stream",
          "name": "stdout",
          "text": [
            "Height is: \n",
            "163.5\n",
            "Height is: \n",
            "150.0\n",
            "Height is: \n",
            "167.0\n",
            "Height is: \n",
            "161.25\n",
            "Height is: \n",
            "170.0\n",
            "That is all.\n"
          ]
        }
      ]
    },
    {
      "cell_type": "markdown",
      "metadata": {
        "id": "WTlOHHYKYmE5"
      },
      "source": [
        "- ข้อสังเกต กระบวนการที่เราต้องการทำซ้ำคือ `print(height)` จะต้องมีย่อหน้าถัดเข้าไป"
      ]
    },
    {
      "cell_type": "markdown",
      "metadata": {
        "id": "zCKOc0IHYxT7"
      },
      "source": [
        "### กฎการย่อหน้าของภาษาไพธอน\n",
        "\n",
        "- กระบวนการที่เราต้องการทำซ้ำในลูปทุกชนิด จะต้องย่อหน้าถัดเข้าไปทางขวาเสมอ\n",
        "- ขนาดของย่อหน้าที่นิยมกันคือ เคาะ spacebar 4 ครั้ง\n",
        "- เมื่อไรก็ตามที่ย่อหน้ากลับออกมาทางซ้าย จะถือว่าจบลูปแล้ว"
      ]
    },
    {
      "cell_type": "markdown",
      "metadata": {
        "id": "WPsylI4MY3fY"
      },
      "source": [
        "### แบบฝึกหัด 7.1"
      ]
    },
    {
      "cell_type": "markdown",
      "metadata": {
        "id": "HIaDSYfsY5TP"
      },
      "source": [
        "1. พิมพ์สมาชิกแต่ละตัวในลิสต์ `my_list` ออกหน้าจอโดยใช้ลูปฟอร์และคำสั่ง `print`"
      ]
    },
    {
      "cell_type": "code",
      "metadata": {
        "id": "XxUs1MzEY66M",
        "colab": {
          "base_uri": "https://localhost:8080/"
        },
        "outputId": "8f8b7c36-3962-4149-fdcd-c6f178feabe0"
      },
      "source": [
        "my_list = ['hello', 'my', 'name', 'is', 'prasitthichai']\n",
        "\n",
        "# ลูปฟอร์\n",
        "for x in my_list:\n",
        "  print(x)"
      ],
      "execution_count": null,
      "outputs": [
        {
          "output_type": "stream",
          "name": "stdout",
          "text": [
            "hello\n",
            "my\n",
            "name\n",
            "is\n",
            "prasitthichai\n"
          ]
        }
      ]
    },
    {
      "cell_type": "markdown",
      "metadata": {
        "id": "PP5qM0HtY9jg"
      },
      "source": [
        "2. เพิ่มค่าสมาชิกแต่ละตัวในลิสต์ `my_numbers` ตัวละ 10 และพิมพ์ออกหน้าจอ"
      ]
    },
    {
      "cell_type": "code",
      "metadata": {
        "id": "-2yL7yq2ZBKr",
        "colab": {
          "base_uri": "https://localhost:8080/"
        },
        "outputId": "50c98709-3d2f-456c-a4be-81c35533567b"
      },
      "source": [
        "my_numbers = [100, 90, 80, 70, 60, 50, 40, 30, 20, 10]\n",
        "\n",
        "# ลูปฟอร์\n",
        "for number in my_numbers:\n",
        "    print(number+10)"
      ],
      "execution_count": null,
      "outputs": [
        {
          "output_type": "stream",
          "name": "stdout",
          "text": [
            "110\n",
            "100\n",
            "90\n",
            "80\n",
            "70\n",
            "60\n",
            "50\n",
            "40\n",
            "30\n",
            "20\n"
          ]
        }
      ]
    },
    {
      "cell_type": "markdown",
      "metadata": {
        "id": "svV10fpdZEur"
      },
      "source": [
        "### ช่วงจำนวน (range)\n",
        "- บางครั้งเราจำเป็นต้องวนลูปฟอร์บนเลขตำแหน่ง index ด้วย\n",
        "- เราสามารถใช้คำสั่ง `range(` $a$ `,` $b$ `)` เพื่อสร้างช่วงจำนวนในลูปฟอร์ได้ โดย $a$ จะเป็นค่า index เริ่มต้นและ $b - 1$ จะเป็นค่าสุดท้าย เช่น"
      ]
    },
    {
      "cell_type": "code",
      "metadata": {
        "id": "2Qa4-zA0ZLcO",
        "colab": {
          "base_uri": "https://localhost:8080/"
        },
        "outputId": "0a74c4c6-451b-43bc-a654-191e3ea78a0e"
      },
      "source": [
        "for i in range(len(my_numbers)):\n",
        "    print('number', i+1, '=',my_numbers[i])"
      ],
      "execution_count": null,
      "outputs": [
        {
          "output_type": "stream",
          "name": "stdout",
          "text": [
            "number 1 = 100\n",
            "number 2 = 90\n",
            "number 3 = 80\n",
            "number 4 = 70\n",
            "number 5 = 60\n",
            "number 6 = 50\n",
            "number 7 = 40\n",
            "number 8 = 30\n",
            "number 9 = 20\n",
            "number 10 = 10\n"
          ]
        }
      ]
    },
    {
      "cell_type": "markdown",
      "metadata": {
        "id": "w0qvEsxrZNX8"
      },
      "source": [
        "- หากเราละค่า $a$ ไป เหลือเพียง `range(` $b$ `)` ช่วงจำนวนจะเริ่มต้นจาก 0 และสิ้นสุดที่ $b - 1$"
      ]
    },
    {
      "cell_type": "code",
      "metadata": {
        "id": "ml52evtwZQ3Q",
        "colab": {
          "base_uri": "https://localhost:8080/"
        },
        "outputId": "54c0098c-7a12-4911-ac45-b350c2f3a666"
      },
      "source": [
        "for i in range(20):\n",
        "    print('i =', i)"
      ],
      "execution_count": null,
      "outputs": [
        {
          "output_type": "stream",
          "name": "stdout",
          "text": [
            "i = 0\n",
            "i = 1\n",
            "i = 2\n",
            "i = 3\n",
            "i = 4\n",
            "i = 5\n",
            "i = 6\n",
            "i = 7\n",
            "i = 8\n",
            "i = 9\n",
            "i = 10\n",
            "i = 11\n",
            "i = 12\n",
            "i = 13\n",
            "i = 14\n",
            "i = 15\n",
            "i = 16\n",
            "i = 17\n",
            "i = 18\n",
            "i = 19\n"
          ]
        }
      ]
    },
    {
      "cell_type": "markdown",
      "metadata": {
        "id": "zFKCmP7_ZS5k"
      },
      "source": [
        "- นอกจากนี้เรายังสามารถกำหนดขนาดของก้าว (step) ในการสร้างช่วงจำนวนได้ โดยใช้คำสั่ง `range(` $a$ `,` $b$ `,` $c$ `)` เมื่อค่า $c$ คือขนาดของก้าว"
      ]
    },
    {
      "cell_type": "code",
      "metadata": {
        "id": "40NiajjvZfCv",
        "colab": {
          "base_uri": "https://localhost:8080/"
        },
        "outputId": "b60966df-b389-4b41-a881-c31b630479c4"
      },
      "source": [
        "# ก้าวมีขนาดเท่ากับ 2\n",
        "for i in range(0, 20, 2):\n",
        "    print('i =', i)"
      ],
      "execution_count": null,
      "outputs": [
        {
          "output_type": "stream",
          "name": "stdout",
          "text": [
            "i = 0\n",
            "i = 2\n",
            "i = 4\n",
            "i = 6\n",
            "i = 8\n",
            "i = 10\n",
            "i = 12\n",
            "i = 14\n",
            "i = 16\n",
            "i = 18\n"
          ]
        }
      ]
    },
    {
      "cell_type": "markdown",
      "metadata": {
        "id": "sr963OPMZg5S"
      },
      "source": [
        "- ข้อดีของการใช้คำสั่ง `range` ที่กำหนดขนาดของก้าวได้ ก็คือ เราสามารถไล่ index ย้อนหลังได้ด้วย เช่น"
      ]
    },
    {
      "cell_type": "code",
      "metadata": {
        "id": "jvoqpqFWZjun",
        "colab": {
          "base_uri": "https://localhost:8080/"
        },
        "outputId": "60cdd320-119c-4ab0-d3ec-a7775ae81eb2"
      },
      "source": [
        "# ก้าวมีขนาดติดลบ แปลว่าเดินถอยหลัง\n",
        "for i in range(10, 0, -1):\n",
        "    print(i)\n",
        "\n",
        "# สังเกตว่าลูปฟอร์จะหยุดทำงานเมื่อค่า index i = 0 ทำให้ไม่พิมพ์ค่า 0 ออกมาทางหน้าจอ"
      ],
      "execution_count": null,
      "outputs": [
        {
          "output_type": "stream",
          "name": "stdout",
          "text": [
            "10\n",
            "9\n",
            "8\n",
            "7\n",
            "6\n",
            "5\n",
            "4\n",
            "3\n",
            "2\n",
            "1\n"
          ]
        }
      ]
    },
    {
      "cell_type": "markdown",
      "metadata": {
        "id": "dyPQ17xVZoPm"
      },
      "source": [
        "### แบบฝึกหัด 7.2"
      ]
    },
    {
      "cell_type": "markdown",
      "metadata": {
        "id": "Q1SwLJyjZq3x"
      },
      "source": [
        "1. จงวนลูปค่า index `i` จากค่า 1 ถึง 20 แล้วพิมพ์ค่าของ `2 * i` ออกมาทางหน้าจอ"
      ]
    },
    {
      "cell_type": "code",
      "metadata": {
        "id": "ASYpN-smZuCY",
        "colab": {
          "base_uri": "https://localhost:8080/"
        },
        "outputId": "4026224b-f849-459a-c5f9-672ba5cba460"
      },
      "source": [
        "# วนลูปค่า index i จาก 1 ถึง 20\n",
        "for i in range(1,21):\n",
        "    # พิมพ์ค่า 2 * i ออกทางหน้าจอ\n",
        "    print(2*i)"
      ],
      "execution_count": null,
      "outputs": [
        {
          "output_type": "stream",
          "name": "stdout",
          "text": [
            "2\n",
            "4\n",
            "6\n",
            "8\n",
            "10\n",
            "12\n",
            "14\n",
            "16\n",
            "18\n",
            "20\n",
            "22\n",
            "24\n",
            "26\n",
            "28\n",
            "30\n",
            "32\n",
            "34\n",
            "36\n",
            "38\n",
            "40\n"
          ]
        }
      ]
    },
    {
      "cell_type": "markdown",
      "metadata": {
        "id": "90-u3r9tZ2Wp"
      },
      "source": [
        "2. จงวนลูปค่า index `i` จากค่า 100 จนถึง 10 แล้วพิมพ์ค่า `i / 10` ออกมาทางหน้าจอ"
      ]
    },
    {
      "cell_type": "code",
      "metadata": {
        "id": "NnXGw3AxZ5UJ",
        "colab": {
          "base_uri": "https://localhost:8080/"
        },
        "outputId": "9e940a96-0ed5-4ec2-f6ad-59e847f846a0"
      },
      "source": [
        "# วนลูปค่า index i จาก 100 จนถึง 10\n",
        "for i in range(100,9,-10):\n",
        "    # พิมพ์ค่า i / 10 ออกมาทางหน้าจอ\n",
        "    print(i/10)"
      ],
      "execution_count": null,
      "outputs": [
        {
          "output_type": "stream",
          "name": "stdout",
          "text": [
            "10.0\n",
            "9.0\n",
            "8.0\n",
            "7.0\n",
            "6.0\n",
            "5.0\n",
            "4.0\n",
            "3.0\n",
            "2.0\n",
            "1.0\n"
          ]
        }
      ]
    },
    {
      "cell_type": "markdown",
      "metadata": {
        "id": "EJWOo0RdZ7zT"
      },
      "source": [
        "3. จงวนลูปค่า index `i` จากค่า 0 ถึง `len(student_heights) - 1` และแปลงหน่วยความสูงของนักเรียนแต่ละคนจากหน่วยเซนติเมตรเป็นหน่วยเมตร [คำใบ้: 100 เซนติเมตร = 1 เมตร]"
      ]
    },
    {
      "cell_type": "code",
      "metadata": {
        "id": "sLzOWXWeZ-ap",
        "colab": {
          "base_uri": "https://localhost:8080/"
        },
        "outputId": "c02724fe-5ab4-43b8-fd50-cf12d5a44a6a"
      },
      "source": [
        "student_heights = [163.5, 150.0, 167.0, 161.25, 170.0]\n",
        "\n",
        "for i in range(len(student_heights)):\n",
        "    print(f'{student_heights[i]/100:.2f}')"
      ],
      "execution_count": null,
      "outputs": [
        {
          "output_type": "stream",
          "name": "stdout",
          "text": [
            "1.64\n",
            "1.50\n",
            "1.67\n",
            "1.61\n",
            "1.70\n"
          ]
        }
      ]
    },
    {
      "cell_type": "markdown",
      "metadata": {
        "id": "7a3H_wugaCL_"
      },
      "source": [
        "4. จงวนลูปเพื่อแสดงสูตรคูณแม่ 3 ไล่ตั้งแต่ $3 \\times 1$ จนถึง $3 \\times 12$ โดยจะได้ผลลัพธ์ดังนี้\n",
        "\n",
        "```\n",
        "3 * 1 = 3\n",
        "3 * 2 = 6\n",
        "3 * 3 = 9\n",
        ":\n",
        ":\n",
        ":\n",
        "3 * 12 = 36\n",
        "```"
      ]
    },
    {
      "cell_type": "code",
      "metadata": {
        "id": "Y7pjw_50aFDA",
        "colab": {
          "base_uri": "https://localhost:8080/"
        },
        "outputId": "9e7d983e-8b20-4854-c5ec-7064169eaca3"
      },
      "source": [
        "# วนลูปค่า index i จาก 1 ถึง 12\n",
        "for i in range(1,13):\n",
        "    print(f'3 * {i:>2} = {3*i}')"
      ],
      "execution_count": null,
      "outputs": [
        {
          "output_type": "stream",
          "name": "stdout",
          "text": [
            "3 *  1 = 3\n",
            "3 *  2 = 6\n",
            "3 *  3 = 9\n",
            "3 *  4 = 12\n",
            "3 *  5 = 15\n",
            "3 *  6 = 18\n",
            "3 *  7 = 21\n",
            "3 *  8 = 24\n",
            "3 *  9 = 27\n",
            "3 * 10 = 30\n",
            "3 * 11 = 33\n",
            "3 * 12 = 36\n"
          ]
        }
      ]
    },
    {
      "cell_type": "markdown",
      "metadata": {
        "id": "CR82okk8aIeQ"
      },
      "source": [
        "### ลูปซ้อนลูป (loop embedding)\n",
        "- เราสามารถเขียนลูปซ้อนลูปได้ด้วย หากว่าโปรแกรมของเรามีความซับซ้อนกว่าลูปเดียว\n",
        "- เช่น เราสามารถวนลูปเพื่อไล่สูตรคูณแม่ 3 ถึงแม่ 5 ได้ดังนี้"
      ]
    },
    {
      "cell_type": "code",
      "metadata": {
        "id": "t3DEUJ3kaMxB",
        "colab": {
          "base_uri": "https://localhost:8080/"
        },
        "outputId": "0d23d949-9f1b-4706-fcba-fbda5db2cd67"
      },
      "source": [
        "# วนลูป index m เพื่อไล่แม่สูตรคูณจากแม่ 3 ถึงแม่ 5\n",
        "for m in range(3, 6):\n",
        "    print('Multiplication of', m)\n",
        "    # วนลูป index i เพื่อไล่ตัวคูณจาก 1 ถึง 12\n",
        "    for i in range(1, 13):\n",
        "        print(m, '*', i, '=', m * i)\n",
        "    # พิมพ์บรรทัดใหม่คั่นระหว่างแม่\n",
        "    print()"
      ],
      "execution_count": null,
      "outputs": [
        {
          "output_type": "stream",
          "name": "stdout",
          "text": [
            "Multiplication of 3\n",
            "3 * 1 = 3\n",
            "3 * 2 = 6\n",
            "3 * 3 = 9\n",
            "3 * 4 = 12\n",
            "3 * 5 = 15\n",
            "3 * 6 = 18\n",
            "3 * 7 = 21\n",
            "3 * 8 = 24\n",
            "3 * 9 = 27\n",
            "3 * 10 = 30\n",
            "3 * 11 = 33\n",
            "3 * 12 = 36\n",
            "\n",
            "Multiplication of 4\n",
            "4 * 1 = 4\n",
            "4 * 2 = 8\n",
            "4 * 3 = 12\n",
            "4 * 4 = 16\n",
            "4 * 5 = 20\n",
            "4 * 6 = 24\n",
            "4 * 7 = 28\n",
            "4 * 8 = 32\n",
            "4 * 9 = 36\n",
            "4 * 10 = 40\n",
            "4 * 11 = 44\n",
            "4 * 12 = 48\n",
            "\n",
            "Multiplication of 5\n",
            "5 * 1 = 5\n",
            "5 * 2 = 10\n",
            "5 * 3 = 15\n",
            "5 * 4 = 20\n",
            "5 * 5 = 25\n",
            "5 * 6 = 30\n",
            "5 * 7 = 35\n",
            "5 * 8 = 40\n",
            "5 * 9 = 45\n",
            "5 * 10 = 50\n",
            "5 * 11 = 55\n",
            "5 * 12 = 60\n",
            "\n"
          ]
        }
      ]
    },
    {
      "cell_type": "markdown",
      "metadata": {
        "id": "Za1oj5KbaQ-Y"
      },
      "source": [
        "- ข้อสังเกตจากการวนลูปฟอร์ในการไล่แม่สูตรคูณก็คือ\n",
        "  1. ในลูปนอก เราจะวนลูป index ของแม่สูตรคูณก่อน เช่น แม่ 3 ถึงแม่ 5 เป็นต้น\n",
        "  2. ส่วนลูปข้างใน เราจะวนลูป index ของตัวคูณในแต่ละแม่ คือตั้งแต่ 1 ถึง 12\n",
        "- นั่นแสดงว่า ถ้าเราจะเขียนโปรแกรมที่สลับซับซ้อนได้ เราจะต้องแยกแยะและถอดลูปออกเป็นชั้นนอกและชั้นในให้ออก"
      ]
    },
    {
      "cell_type": "markdown",
      "metadata": {
        "id": "vWA-dOxdaYXR"
      },
      "source": [
        "### แบบฝึกหัด 7.3"
      ]
    },
    {
      "cell_type": "markdown",
      "metadata": {
        "id": "oTmLvrdcabYt"
      },
      "source": [
        "1. จงเขียนโปรแกรมเพื่อไล่แม่สูตรคูณจากแม่ 11 ถึงแม่ 15 โดยแต่ละแม่จะคูณกับตัวเลขตั้งแต่ 1 จนถึง 12"
      ]
    },
    {
      "cell_type": "code",
      "metadata": {
        "id": "dl-aa4IIadEu",
        "colab": {
          "base_uri": "https://localhost:8080/"
        },
        "outputId": "42e731ad-ea09-4424-e9b1-0f4e8fb1605b"
      },
      "source": [
        "for m in range(11,16):\n",
        "    for i in range(1,13):\n",
        "        print(f'{m} * {i} = {m*i}')\n",
        "    print()"
      ],
      "execution_count": null,
      "outputs": [
        {
          "output_type": "stream",
          "name": "stdout",
          "text": [
            "11 * 1 = 11\n",
            "11 * 2 = 22\n",
            "11 * 3 = 33\n",
            "11 * 4 = 44\n",
            "11 * 5 = 55\n",
            "11 * 6 = 66\n",
            "11 * 7 = 77\n",
            "11 * 8 = 88\n",
            "11 * 9 = 99\n",
            "11 * 10 = 110\n",
            "11 * 11 = 121\n",
            "11 * 12 = 132\n",
            "\n",
            "12 * 1 = 12\n",
            "12 * 2 = 24\n",
            "12 * 3 = 36\n",
            "12 * 4 = 48\n",
            "12 * 5 = 60\n",
            "12 * 6 = 72\n",
            "12 * 7 = 84\n",
            "12 * 8 = 96\n",
            "12 * 9 = 108\n",
            "12 * 10 = 120\n",
            "12 * 11 = 132\n",
            "12 * 12 = 144\n",
            "\n",
            "13 * 1 = 13\n",
            "13 * 2 = 26\n",
            "13 * 3 = 39\n",
            "13 * 4 = 52\n",
            "13 * 5 = 65\n",
            "13 * 6 = 78\n",
            "13 * 7 = 91\n",
            "13 * 8 = 104\n",
            "13 * 9 = 117\n",
            "13 * 10 = 130\n",
            "13 * 11 = 143\n",
            "13 * 12 = 156\n",
            "\n",
            "14 * 1 = 14\n",
            "14 * 2 = 28\n",
            "14 * 3 = 42\n",
            "14 * 4 = 56\n",
            "14 * 5 = 70\n",
            "14 * 6 = 84\n",
            "14 * 7 = 98\n",
            "14 * 8 = 112\n",
            "14 * 9 = 126\n",
            "14 * 10 = 140\n",
            "14 * 11 = 154\n",
            "14 * 12 = 168\n",
            "\n",
            "15 * 1 = 15\n",
            "15 * 2 = 30\n",
            "15 * 3 = 45\n",
            "15 * 4 = 60\n",
            "15 * 5 = 75\n",
            "15 * 6 = 90\n",
            "15 * 7 = 105\n",
            "15 * 8 = 120\n",
            "15 * 9 = 135\n",
            "15 * 10 = 150\n",
            "15 * 11 = 165\n",
            "15 * 12 = 180\n",
            "\n"
          ]
        }
      ]
    },
    {
      "cell_type": "markdown",
      "metadata": {
        "id": "SzloOKzwaeit"
      },
      "source": [
        "2. จงเขียนโปรแกรมเพื่อแสดงจัตุรัสตัวเลข 1 ถึง 9 โดยใช้ลูปซ้อนกัน 2 ลูป ซึ่งผลลัพธ์จะเป็นดังต่อไปนี้\n",
        "\n",
        "```\n",
        "1 2 3\n",
        "4 5 6\n",
        "7 8 9\n",
        "```\n",
        "\n",
        "\n",
        "   **หมายเหตุ:** เราสามารถระบุให้คำสั่ง `print` ไม่ต้องขึ้นบรรทัดใหม่หลังจากพิมพ์ค่าออกหน้าจอได้ด้วยการระบุ `end=''` ไว้ในวงเล็บของ `print`"
      ]
    },
    {
      "cell_type": "code",
      "metadata": {
        "id": "tlYAsRMsagqj",
        "colab": {
          "base_uri": "https://localhost:8080/"
        },
        "outputId": "a408a7fe-cfbf-4f70-a1d4-5eb44ac10bb0"
      },
      "source": [
        "for i in range(1,8,3):\n",
        "  for j in range(i,i+3):\n",
        "    print(j, end=' ')\n",
        "  print()"
      ],
      "execution_count": null,
      "outputs": [
        {
          "output_type": "stream",
          "name": "stdout",
          "text": [
            "1 2 3 \n",
            "4 5 6 \n",
            "7 8 9 \n"
          ]
        }
      ]
    },
    {
      "cell_type": "code",
      "source": [
        "my_list = ['a', 'b', 'c']\n",
        "\n",
        "for i, data in enumerate(my_list):\n",
        "  print(f'list index {i} = {data}')"
      ],
      "metadata": {
        "colab": {
          "base_uri": "https://localhost:8080/"
        },
        "id": "Rn_FBkvHltMS",
        "outputId": "8bd821ab-ec16-4b4e-f9cc-a59511e91105"
      },
      "execution_count": null,
      "outputs": [
        {
          "output_type": "stream",
          "name": "stdout",
          "text": [
            "list index 0 = a\n",
            "list index 1 = b\n",
            "list index 2 = c\n"
          ]
        }
      ]
    },
    {
      "cell_type": "markdown",
      "metadata": {
        "id": "TcOVpk4B_9hL"
      },
      "source": [
        "- ข้อจำกัดสำคัญของลูปฟอร์คือ มันจะไล่ลูปสมาชิกในลิสต์เท่านั้น ทำให้บางครั้งก็ไม่สะดวก หากเราต้องทำซ้ำกระบวนการบนสมาชิกตัวเดิมในลิสต์ตามเงื่อนไขที่กำหนด"
      ]
    },
    {
      "cell_type": "markdown",
      "metadata": {
        "id": "D2PCl37LBVUE"
      },
      "source": [
        "### ลูปไวล์ (while-loop)\n",
        "- คำสั่งลูปไวล์ (while-loop) จะตรวจสอบเงื่อนไขที่กำหนด หากเป็นไปตามเงื่อนไข ก็จะทำซ้ำกระบวนการนั้นไปเรื่อยๆ จนกว่าเงื่อนไขนั้นจะไม่เป็นจริง\n",
        "  - รูปแบบของลูปไวล์เป็นดังนี้\n",
        "```python\n",
        "    while <เงื่อนไข> :\n",
        "        <กระบวนการ>\n",
        "```\n",
        "  - ความหมายของคำสั่งนี้คือ <u>**ตราบเท่าที่**</u> เงื่อนไขนี้เป็นจริง ก็ให้ทำกระบวนการนี้ไปเรื่อยๆ นั่นเอง\n",
        "- เช่น หากเราต้องการหาผลรวมของจำนวนที่ index ที่ 0, 2, 4, ... ไปเรื่อยๆ ตราบเท่าที่จำนวนนั้นไม่เท่ากับ 7 เราจะเขียนโปรแกรมได้ดังนี้ครับ"
      ]
    },
    {
      "cell_type": "code",
      "metadata": {
        "id": "hxUzHWI7BjTf",
        "colab": {
          "base_uri": "https://localhost:8080/"
        },
        "outputId": "800039c7-307b-4050-d934-71aa15ac4e4f"
      },
      "source": [
        "items = [3, 8, 5, 10, 2, 9, 7, 6, 3, 8, 1, 4]\n",
        "idx = 0\n",
        "jumping_sum = 0\n",
        "\n",
        "while idx < len(items) and items[idx] != 7:\n",
        "    print('Adding', items[idx])\n",
        "    jumping_sum = jumping_sum + items[idx]\n",
        "    idx = idx + 2\n",
        "\n",
        "print('The jumping sum is', jumping_sum)"
      ],
      "execution_count": null,
      "outputs": [
        {
          "output_type": "stream",
          "name": "stdout",
          "text": [
            "Adding 3\n",
            "Adding 5\n",
            "Adding 2\n",
            "The jumping sum is 10\n"
          ]
        }
      ]
    },
    {
      "cell_type": "markdown",
      "metadata": {
        "id": "jswtWB33z7wi"
      },
      "source": [
        "## หัวข้อที่ 8: การกำหนดเงื่อนไข"
      ]
    },
    {
      "cell_type": "markdown",
      "metadata": {
        "id": "X_KLAKj3z-6I"
      },
      "source": [
        "- การกำหนดเงื่อนไขในภาษาไพธอนจะใช้คำสั่ง `if` (แปลว่า 'ถ้า') โดยจะมีรูปแบบดังนี้\n",
        "\n",
        "```python\n",
        "if <เงื่อนไข>:\n",
        "    <กระบวนการ>\n",
        "```\n",
        "\n",
        "- โปรแกรมจะทำกระบวนการที่อยู่ในด้านใน ถ้าหากว่าเงื่อนไขที่กำหนดนี้เป็นจริง\n",
        "- จะสังเกตว่ากระบวนการนี้จะต้องย่อหน้า\n",
        "  - นั่นเป็นเพราะว่าการเว้นวรรคย่อหน้าจะเป็นการบอกสโคป (scope) ของคำสั่ง ว่าเป็นกระบวนการที่อยู่ภายใต้คำสั่งที่อยู่ด้านนอก\n",
        "  - การกำหนดเงื่อนไขก็จะทำงานเฉพาะภายใน scope ของตัวเองเท่านั้นครับ\n",
        "- เช่น โปรแกรมด้านล่างนี้จะพิมพ์ข้อความ `'Hurray!'` ถ้าหากว่าเงินเดือนในตัวแปร `salary` มีค่ามากกว่า 10,000 บาท"
      ]
    },
    {
      "cell_type": "code",
      "metadata": {
        "id": "jHnvSj_l0fL-",
        "colab": {
          "base_uri": "https://localhost:8080/"
        },
        "outputId": "4e582305-ba32-454e-eeb9-22e976e6f46e"
      },
      "source": [
        "salary = 10001\n",
        "\n",
        "if salary > 10000:\n",
        "    print('Hurray!')"
      ],
      "execution_count": null,
      "outputs": [
        {
          "output_type": "stream",
          "name": "stdout",
          "text": [
            "Hurray!\n"
          ]
        }
      ]
    },
    {
      "cell_type": "markdown",
      "metadata": {
        "id": "EEiA9iK70jzC"
      },
      "source": [
        "- ทดลองเปลี่ยนค่าตัวเลขของตัวแปร `salary` แล้วรันใหม่ดู"
      ]
    },
    {
      "cell_type": "markdown",
      "metadata": {
        "id": "20HUkD0Y0np_"
      },
      "source": [
        "### รูปแบบของเงื่อนไข\n",
        "- เราสามารถใช้เครื่องหมายเปรียบเทียบทางคณิตศาสตร์ได้เหมือนในวิชาคณิตศาสร์\n",
        "\n",
        "| เครื่องหมาย | ความหมาย |           ตัวอย่าง           |\n",
        "|:---------:|:--------:|:--------------------------:|\n",
        "|    `<`    |  น้อยกว่า  |           `3 < 5`          |\n",
        "|    `>`    |  มากกว่า  |           `5 > 3`          |\n",
        "|    `==`   |  เท่ากับ   | `my_salary == your_salary` |\n",
        "|    `!=`   |  ไม่เท่ากับ | `my_salary != your_salary` |\n",
        "|    `>=`   |  มากกว่าหรือเท่ากับ   | `my_salary >= your_salary` |\n",
        "|    `<=`   |  น้อยกว่าหรือเท่ากับ   | `my_salary <= your_salary` |\n",
        "\n",
        "- ถ้าเราลองพิมพ์ค่าความจริงของเงื่อนไขออกมา เราจะได้เป็นค่า `True` หรือ `False` ซึ่งค่าความจริงก็เป็นข้อมูลประเภทหนึ่งเหมือนกัน เรียกว่า *ค่าตรรกะ* (boolean)  เช่น"
      ]
    },
    {
      "cell_type": "code",
      "metadata": {
        "id": "NuThrd6M00XI",
        "colab": {
          "base_uri": "https://localhost:8080/"
        },
        "outputId": "ae1ef948-1ffa-4623-dfd9-0ac233de97cd"
      },
      "source": [
        "print(0.5 > 0.3)        # True\n",
        "print(0.25 < -1.0)      # False\n",
        "print(1.25 == 1.25)     # True\n",
        "print(1.30 != -0.78)    # True"
      ],
      "execution_count": null,
      "outputs": [
        {
          "output_type": "stream",
          "name": "stdout",
          "text": [
            "True\n",
            "False\n",
            "True\n",
            "True\n"
          ]
        }
      ]
    },
    {
      "cell_type": "markdown",
      "metadata": {
        "id": "3iLI82T-05ox"
      },
      "source": [
        "- ทั้งนี้เราสามารถใช้เครื่องหมายเปรียบสามารถใช้ได้กับข้อความได้ด้วย เช่น"
      ]
    },
    {
      "cell_type": "code",
      "metadata": {
        "id": "EDUVUWla09HK",
        "colab": {
          "base_uri": "https://localhost:8080/"
        },
        "outputId": "93a7d742-5230-4042-c236-fb7ad786f175"
      },
      "source": [
        "print('hello' == 'hello')       # True\n",
        "print('hello' != 'world')       # True\n",
        "print('hello' < 'alphabet')     # False --โปรแกรมเรียงลำดับข้อความตามตัวอักษร"
      ],
      "execution_count": null,
      "outputs": [
        {
          "output_type": "stream",
          "name": "stdout",
          "text": [
            "True\n",
            "True\n",
            "False\n"
          ]
        }
      ]
    },
    {
      "cell_type": "markdown",
      "metadata": {
        "id": "4H1QqDLW0-_z"
      },
      "source": [
        "- นอกจากนี้เรายังสามารถใช้ตัวเชื่อมทางตรรกศาสตร์ได้ด้วย\n",
        "\n",
        "| ตัวเชื่อม    | ความหมาย |           ตัวอย่าง           |\n",
        "|:---------:|:--------:|:--------------------------:|\n",
        "|   `and`   |    และ   |     `a == b and x == y`    |\n",
        "|    `or`   |    หรือ   |     `a != b or c != d`     |\n",
        "|   `not`   |    ไม่    |    `not (a > b)`    |\n",
        "|   `( )`   |   วงเล็บ  | `(a == b) and not (c > d)` |"
      ]
    },
    {
      "cell_type": "code",
      "metadata": {
        "id": "aDuIk9ZW1BYU",
        "colab": {
          "base_uri": "https://localhost:8080/"
        },
        "outputId": "ecf86dd2-7567-425d-8299-1a4cde1f55ac"
      },
      "source": [
        "v1 = 100\n",
        "v2 = 200\n",
        "v3 = 300\n",
        "\n",
        "print(v1 == v2 and v2 == v3)                       # False and False = False\n",
        "print(v1 + v2 == v3 or v2 + v3 == v1)              # True or False = True\n",
        "print(not(v1 == v2 and v2 == v3) or v1 == v2)      # not(False and False) or False = True"
      ],
      "execution_count": null,
      "outputs": [
        {
          "output_type": "stream",
          "name": "stdout",
          "text": [
            "False\n",
            "True\n",
            "True\n"
          ]
        }
      ]
    },
    {
      "cell_type": "markdown",
      "metadata": {
        "id": "CzzYuAag1Q8V"
      },
      "source": [
        "### แบบฝึกหัด 8.1"
      ]
    },
    {
      "cell_type": "markdown",
      "metadata": {
        "id": "p9c32D_71Uj5"
      },
      "source": [
        "1. จงตั้งเงื่อนไขเพื่อให้โปรแกรมพิมพ์ข้อความว่า `'You are tall.'` ถ้าหากว่าความสูงในตัวแปร `my_height` มากกว่า 170"
      ]
    },
    {
      "cell_type": "code",
      "metadata": {
        "id": "iMat6bxE1ZuR",
        "colab": {
          "base_uri": "https://localhost:8080/"
        },
        "outputId": "5c7234b2-3795-4df5-8fd1-d413b8dde70a"
      },
      "source": [
        "my_height = 175\n",
        "\n",
        "if my_height > 170 :\n",
        "    print('You are tall.')"
      ],
      "execution_count": null,
      "outputs": [
        {
          "output_type": "stream",
          "name": "stdout",
          "text": [
            "You are tall.\n"
          ]
        }
      ]
    },
    {
      "cell_type": "markdown",
      "metadata": {
        "id": "sEErwi9q1k8P"
      },
      "source": [
        "2. จงตั้งเงื่อนไขเพื่อให้คอมพิวเตอร์พิมพ์ข้อความว่า `'You are wealthy and tall.'` ถ้าหากว่าเงินเดือนในตัวแปร `my_salary` มากกว่า 10000 และความสูงในตัวแปร `my_height` มากกว่า 170"
      ]
    },
    {
      "cell_type": "code",
      "metadata": {
        "id": "LZuCTnI-1nfQ",
        "colab": {
          "base_uri": "https://localhost:8080/"
        },
        "outputId": "452c8519-6581-4533-f2da-fccefddf2d4f"
      },
      "source": [
        "my_salary = 15000\n",
        "my_height = 175\n",
        "\n",
        "if my_salary > 10000 and my_height > 170 :\n",
        "    print('You are wealthy and tall.')"
      ],
      "execution_count": null,
      "outputs": [
        {
          "output_type": "stream",
          "name": "stdout",
          "text": [
            "You are wealthy and tall.\n"
          ]
        }
      ]
    },
    {
      "cell_type": "markdown",
      "metadata": {
        "id": "8QdJjWcQ1p8e"
      },
      "source": [
        "3. แก้โปรแกรมจากข้อ 2 โดยให้ค่า `my_salary` และ `my_height` เป็นค่าที่รับข้อมูลเข้าทางคีย์บอร์ด"
      ]
    },
    {
      "cell_type": "code",
      "metadata": {
        "id": "3s-YAeDC2LfR",
        "colab": {
          "base_uri": "https://localhost:8080/"
        },
        "outputId": "60ba18c0-f8a5-4f80-fdae-7b16e2c18cdb"
      },
      "source": [
        "my_salary = int(input('Input your salary: '))\n",
        "my_height = int(input('Input your height: '))\n",
        "\n",
        "if my_salary > 10000 and my_height > 170 :\n",
        "    print('You are wealthy and tall.')"
      ],
      "execution_count": null,
      "outputs": [
        {
          "output_type": "stream",
          "name": "stdout",
          "text": [
            "Input your salary: 20000\n",
            "Input your height: 177\n",
            "You are wealthy and tall.\n"
          ]
        }
      ]
    },
    {
      "cell_type": "markdown",
      "metadata": {
        "id": "tGoHYAfjbKSd"
      },
      "source": [
        "4. จงตั้งเงื่อนไขเพื่อควบคุมการพิมพ์ความสูงของนักเรียนแต่ละคน โดยจะพิมพ์ออกมาเฉพาะคนที่มีความสูงมากกว่า 160 เซนติเมตรเท่านั้น [หมายเหตุ: จะสังเกตว่าโจทย์ข้อนี้จะใช้ทั้งลูปฟอร์และการตั้งเงื่อนไขประกอบกันได้ด้วย]"
      ]
    },
    {
      "cell_type": "code",
      "metadata": {
        "id": "N6lnDxlmbOMN",
        "colab": {
          "base_uri": "https://localhost:8080/"
        },
        "outputId": "f943ab61-e56e-4131-f4d5-b76c5115ec9b"
      },
      "source": [
        "student_heights = [163.5, 150.0, 167.0, 161.25, 170.0]\n",
        "\n",
        "for height in student_heights:\n",
        "    if height > 160 :\n",
        "        print(height)"
      ],
      "execution_count": null,
      "outputs": [
        {
          "output_type": "stream",
          "name": "stdout",
          "text": [
            "163.5\n",
            "167.0\n",
            "161.25\n",
            "170.0\n"
          ]
        }
      ]
    },
    {
      "cell_type": "markdown",
      "metadata": {
        "id": "XqHGMp6-bRFF"
      },
      "source": [
        "5. จงตั้งเงื่อนไขเพื่อควบคุมการพิมพ์ชื่อของนักเรียนแต่ละคนและความสูงออกมา โดยจะพิมพ์ออกมาเฉพาะคนที่ชื่อนำหน้าด้วยตัวอักษรอื่น<u>**ที่ไม่ใช่**</u> `'A'` และ<u>**ไม่ใช่**</u> `'C'` และมีความสูงมากกว่า 160 เซนติเมตรเท่านั้น"
      ]
    },
    {
      "cell_type": "code",
      "metadata": {
        "id": "h3Cip3fubTjR",
        "colab": {
          "base_uri": "https://localhost:8080/"
        },
        "outputId": "7d30fa3d-6536-46ef-9c6b-da5a774be19a"
      },
      "source": [
        "student_names = ['Arm', 'Bobby', 'Cathy', 'Dorothy', 'Emily']\n",
        "student_heights = [163.5, 150.0, 167.0, 161.25, 170.0]\n",
        "\n",
        "for i in range(len(student_names)):\n",
        "    if (student_names[i][0] != 'A') and (student_names[i][0] != 'C') and (student_heights[i]>160) :\n",
        "        print(student_names[i], ':', student_heights[i])"
      ],
      "execution_count": null,
      "outputs": [
        {
          "output_type": "stream",
          "name": "stdout",
          "text": [
            "Dorothy : 161.25\n",
            "Emily : 170.0\n"
          ]
        }
      ]
    },
    {
      "cell_type": "markdown",
      "metadata": {
        "id": "S3g-zBe32MDa"
      },
      "source": [
        "### การกำหนดเงื่อนไขที่มี 2 ทางเลือก\n",
        "- ในกรณีที่เราต้องการกำหนดเงื่อนไขที่มี 2 ทางเลือก เราสามารถใช้คำสั่ง `if ... else ...` (else แปลว่า 'ไม่เช่นนั้น') ได้\n",
        "- รูปแบบของเงื่อนไขที่มี 2 ทางเลือก\n",
        "\n",
        "```python\n",
        "if <เงื่อนไข> :\n",
        "    <กระบวนการ 1>\n",
        "else:\n",
        "    <กระบวนการ 2>\n",
        "```\n",
        "\n",
        "- ความหมายของคำสั่งนี้คือ ถ้าเงื่อนไขนี้เป็นจริง ก็ให้ทำกระบวนการที่ 1 ไม่เช่นนั้นก็ให้ทำกระบวนการที่ 2 แทน\n",
        "- เช่น โปรแกรมด้านล่างนี้จะพิมพ์ข้อความ `'Hurray!'` ถ้าหากว่าเงินเดือนในตัวแปร `salary` มีค่ามากกว่า 10,000 บาท หรือไม่เช่นนั้นก็พิมพ์ข้อความว่า `'Poor you.'` แทน"
      ]
    },
    {
      "cell_type": "code",
      "metadata": {
        "id": "ykYHVzDt2dp5",
        "colab": {
          "base_uri": "https://localhost:8080/"
        },
        "outputId": "e9955f5d-a85b-4ec2-ab80-d89c610c2621"
      },
      "source": [
        "salary = 5000\n",
        "\n",
        "if salary > 10000:\n",
        "    print('Hurray!')\n",
        "else:\n",
        "    print('Poor you.')"
      ],
      "execution_count": null,
      "outputs": [
        {
          "output_type": "stream",
          "name": "stdout",
          "text": [
            "Poor you.\n"
          ]
        }
      ]
    },
    {
      "cell_type": "markdown",
      "metadata": {
        "id": "W6p4oksN2hQx"
      },
      "source": [
        "### การกำหนดเงื่อนไขแบบซับซ้อน\n",
        "- นอกจากนี้ หากเงื่อนไขของโปรแกรมมีความสลับซับซ้อน เช่น การตัดเกรดของนักเรียนที่ต้องทำแบ่งเป็นช่วงชั้น เราสามารถใช้การกำหนดเงื่อนไขแบบซับซ้อน `if ... elif ... else ...` ได้ครับ (`elif` ย่อมาจากคำว่า 'else if' แปลว่า 'ไม่เช่นนั้น ถ้าหาก')\n",
        "- รูปแบบของการกำหนดเงื่อนไขแบบซับซ้อน\n",
        "\n",
        "```python\n",
        "if <เงื่อนไข 1> :\n",
        "    <กระบวนการ 1>\n",
        "elif <เงื่อนไข 2> :\n",
        "    <กระบวนการ 2>\n",
        "elif <เงื่อนไข 3> :\n",
        "    <กระบวนการ 3>\n",
        "    :\n",
        "    :\n",
        "    :\n",
        "else:\n",
        "    <กระบวนการสุดท้าย>\n",
        "```\n",
        "\n",
        "- ความหมายของคำสั่งนี้คือ\n",
        "  1. ถ้าเงื่อนไข 1 นี้เป็นจริง ก็ให้ทำกระบวนการที่ 1\n",
        "  2. ไม่เช่นนั้นก็ให้เช็คเงื่อนไข 2 ถ้าเป็นจริง ก็ให้ทำกระบวนการที่ 2\n",
        "  3. ไม่เช่นนั้นก็ให้เช็คเงื่อนไข 3 ถ้าเป็นจริง ก็ให้ทำกระบวนการที่ 3\n",
        "  4. เราจะเช็คเงื่อนไขแบบนี้ไปเรื่อยๆ จนกระทั่งไม่เข้าเงื่อนไขใดเลย จึงทำกระบวนการสุดท้าย"
      ]
    },
    {
      "cell_type": "markdown",
      "metadata": {
        "id": "8__9w5OJ2rOb"
      },
      "source": [
        "- เช่น ถ้าเราจะกำหนดเงื่อนไขเพื่อตัดเกรดของนักเรียน จากคะแนนเต็ม 100 คะแนน\n",
        "  1. ถ้าได้คะแนน 80 ขึ้นไป จะได้เกรด A\n",
        "  2. ไม่เช่นนั้น ถ้าได้คะแนน 70 ขึ้นไป จะได้เกรด B\n",
        "  3. ไม่เช่นนั้น ถ้าได้คะแนน 60 ขึ้นไป จะได้เกรด C\n",
        "  4. ไม่เช่นนั้น ถ้าได้คะแนน 50 ขึ้นไป จะได้เกรด D\n",
        "  5. ไม่เช่นนั้น จะได้เกรด F"
      ]
    },
    {
      "cell_type": "code",
      "metadata": {
        "id": "fJN77zpr2urt",
        "colab": {
          "base_uri": "https://localhost:8080/"
        },
        "outputId": "ed7cba31-0c6f-445f-f94d-e9857f4a1f75"
      },
      "source": [
        "score = int(input('Enter your score: '))\n",
        "\n",
        "if score >= 80:           # score >= 80\n",
        "    grade = 'A'\n",
        "elif score >= 70:         # 70 <= score <= 79\n",
        "    grade = 'B'\n",
        "elif score >= 60:         # 60 <= score <= 69\n",
        "    grade = 'C'\n",
        "elif score >= 50:         # 50 <= score <= 59\n",
        "    grade = 'D'\n",
        "else:                     # score < 50\n",
        "    grade = 'F'\n",
        "\n",
        "print('Your grade =', grade)"
      ],
      "execution_count": null,
      "outputs": [
        {
          "output_type": "stream",
          "name": "stdout",
          "text": [
            "Enter your score: 75\n",
            "Your grade = B\n"
          ]
        }
      ]
    },
    {
      "cell_type": "markdown",
      "metadata": {
        "id": "zf1YTaBPbbGV"
      },
      "source": [
        "### คำสั่งออกจากลูป (break) และคำสั่งกระโดดไปสมาชิกตัวถัดไป (continue)"
      ]
    },
    {
      "cell_type": "markdown",
      "metadata": {
        "id": "A1y-FpS3bc9c"
      },
      "source": [
        "- เราสามารถออกจากลูปได้ด้วยคำสั่ง `break`\n",
        "- เช่น เราสามารถสั่งให้คอมพิวเตอร์พิมพ์ชื่อนักเรียนและความสูงตามลิสต์ด้านล่างออกมา จนกว่าความสูงจะมากกว่า 165 เซนติเมตรจึงจะหยุด ได้ด้วยคำสั่ง `break`"
      ]
    },
    {
      "cell_type": "code",
      "metadata": {
        "id": "HJmcu7rHbf_y",
        "colab": {
          "base_uri": "https://localhost:8080/"
        },
        "outputId": "cad014bf-2836-44a8-b62c-faa4f6167640"
      },
      "source": [
        "student_names = ['Arm', 'Bobby', 'Cathy', 'Dorothy', 'Emily']\n",
        "student_heights = [163.5, 150.0, 167.0, 161.25, 170.0]\n",
        "\n",
        "for i in range(len(student_heights)):\n",
        "    # พิมพ์ชื่อนักเรียนและความสูง\n",
        "    print(student_names[i], ':', student_heights[i])\n",
        "    # ถ้าความสูงของนักเรียนคนนั้น > 165 เซนติเมตร ให้ออกจากลูป\n",
        "    if student_heights[i] > 165.0:\n",
        "        break\n",
        "\n",
        "print('That is all.')"
      ],
      "execution_count": null,
      "outputs": [
        {
          "output_type": "stream",
          "name": "stdout",
          "text": [
            "Arm : 163.5\n",
            "Bobby : 150.0\n",
            "Cathy : 167.0\n",
            "That is all.\n"
          ]
        }
      ]
    },
    {
      "cell_type": "markdown",
      "metadata": {
        "id": "GO50r28JbiD-"
      },
      "source": [
        "- ส่วนคำสั่ง `continue` จะสั่งให้คอมพิวเตอร์เลิกทำกระบวนการที่กำลังทำกับสมาชิกตัวปัจจุบัน แล้วกระโดดไปสมาชิกตัวถัดไปทันที\n",
        "- เช่น เราสามารถสั่งให้คอมพิวเตอร์พิมพ์รายชื่อนักเรียนและความสูง แต่หากนักเรียนคนใดที่มีชื่อขึ้นต้นด้วยตัว `'A'` หรือตัว `'C'` ก็จะไม่ต้องพิมพ์ต่อท้ายว่า `blacklisted` ได้ดังนี้"
      ]
    },
    {
      "cell_type": "code",
      "metadata": {
        "id": "fOXG6pWCbkp5",
        "colab": {
          "base_uri": "https://localhost:8080/"
        },
        "outputId": "ce180e16-a692-428f-d50a-27fba7a41e29"
      },
      "source": [
        "student_names = ['Arm', 'Bobby', 'Cathy', 'Dorothy', 'Emily']\n",
        "student_heights = [163.5, 150.0, 167.0, 161.25, 170.0]\n",
        "\n",
        "for i in range(len(student_heights)):\n",
        "    # พิมพ์ชื่อนักเรียนและความสูง\n",
        "    print(student_names[i], ':', student_heights[i], end='')\n",
        "    # ถ้าชื่อนักเรียนขึ้นต้นด้วยตัว A หรือตัว C ให้ตัดจบ แล้วไปสมาชิกตัวถัดไปทันที\n",
        "    if student_names[i][0] == 'A' or student_names[i][0] == 'C':\n",
        "        print()\n",
        "        continue\n",
        "    print(' --> blacklisted')"
      ],
      "execution_count": null,
      "outputs": [
        {
          "output_type": "stream",
          "name": "stdout",
          "text": [
            "Arm : 163.5\n",
            "Bobby : 150.0 --> blacklisted\n",
            "Cathy : 167.0\n",
            "Dorothy : 161.25 --> blacklisted\n",
            "Emily : 170.0 --> blacklisted\n"
          ]
        }
      ]
    },
    {
      "cell_type": "code",
      "source": [
        "secret = 123\n",
        "a = int(input('Enter secret: '))\n",
        "\n",
        "while True:\n",
        "  if secret == a:\n",
        "    break\n",
        "  a = int(input('Enter secret: '))\n",
        "\n",
        "print('You are logged in')"
      ],
      "metadata": {
        "colab": {
          "base_uri": "https://localhost:8080/"
        },
        "id": "BeySCZoQ04zr",
        "outputId": "0b4b5d55-d76d-4bf2-f3e5-effd0c8934df"
      },
      "execution_count": null,
      "outputs": [
        {
          "output_type": "stream",
          "name": "stdout",
          "text": [
            "Enter secret: 124\n",
            "Enter secret: 125\n",
            "Enter secret: 123\n",
            "You are logged in\n"
          ]
        }
      ]
    },
    {
      "cell_type": "markdown",
      "metadata": {
        "id": "b2qvYqQGb0em"
      },
      "source": [
        "###แบบฝึกหัด 8.2"
      ]
    },
    {
      "cell_type": "markdown",
      "metadata": {
        "id": "34TuLk8Mb2fY"
      },
      "source": [
        "จงเขียนโปรแกรมเพื่อแสดงรายการนักเรียนที่ได้เกรดตำกว่า 4 ถ้านักเรียนคนใดได้เกรดต่ำกว่า 3 ให้พิมพ์ข้อความเตือน `'warning'` ที่หลังเกรด และให้โปรแกรมหยุดการทำงานเมื่อพบนักเรียนที่ได้เกรดตำกว่า 2"
      ]
    },
    {
      "cell_type": "code",
      "metadata": {
        "id": "IbzViiQ3b46k",
        "colab": {
          "base_uri": "https://localhost:8080/"
        },
        "outputId": "1d897b0b-3d0e-472b-d548-2bde2b1be8a2"
      },
      "source": [
        "student_names = ['Arm', 'Bobby', 'Cathy', 'Dorothy', 'Emily']\n",
        "student_scores = [86, 78, 54, 65, 34]\n",
        "# <50 = 0 , <=60 = 1, <= 70 = 2 , <= 80 = 3 , >80 = 4\n",
        "for i in range(len(student_names)):\n",
        "    grade = 0\n",
        "    # คำนวณเกรดของนักเรียน เก็บใส่ตัวแปร grade ไว้\n",
        "    if student_scores[i] > 80:\n",
        "      grade = 4\n",
        "    elif student_scores[i] > 70:\n",
        "      grade = 3\n",
        "    elif student_scores[i] > 60:\n",
        "      grade = 2\n",
        "    elif student_scores[i] > 50:\n",
        "      grade = 1\n",
        "    else:\n",
        "      grade = 0\n",
        "    # ถ้าพบว่านักเรียนได้เกรด 4 ให้กระโดดข้ามไปนักเรียนคนถัดไป โดยใช้คำสั่ง continue\n",
        "    if grade == 4:\n",
        "      continue\n",
        "    # พิมพ์ชื่อนักเรียนและเกรด โดยที่ยังไม่ต้องขึ้นบรรทัดใหม่\n",
        "    print(student_names[i], ':', grade, end='')\n",
        "    # ถ้าพบนักเรียนคนใดได้เกรดตำกว่า 3 ให้พิมพ์ข้อความเตือนว่า 'warning' และขึ้นบรรทัดใหม่\n",
        "    if grade < 3:\n",
        "      print(' warning')\n",
        "    # หากพบนักเรียนที่ได้เกรดต่ำกว่า 2 ให้ออกจากลูปทันที โดยใช้คำสั่ง break\n",
        "    if grade < 2:\n",
        "      break\n",
        "    print()\n"
      ],
      "execution_count": null,
      "outputs": [
        {
          "output_type": "stream",
          "name": "stdout",
          "text": [
            "Bobby : 3\n",
            "Cathy : 1 warning\n"
          ]
        }
      ]
    },
    {
      "cell_type": "markdown",
      "metadata": {
        "id": "w2sttW7cDebq"
      },
      "source": [
        "### แบบฝึกหัด 8.3\n",
        "จงเก็บรวบรวมของตัวเลขจำนวนเต็มทุกตัวที่ผู้ใช้พิมพ์เข้ามาแล้วเรียงลำดับจากมากไปน้อย\n",
        "\n",
        "ตราบใดที่ผู้ใช้ยังพิมพ์ตัวเลขที่ไม่ใช่เลข 0 เข้ามา ก็ให้รับค่าตัวเลขมาเรื่อยๆ แล้วเก็บไว้ในลิสต์ `my_numbers` หากเจอเลข 0 ให้หยุดลูปทันที จากนั้นให้จัดเรียงสมาชิกตามลำดับจากมากไปน้อย แล้วแสดงผลลิสต์นั้นออกมา"
      ]
    },
    {
      "cell_type": "code",
      "metadata": {
        "id": "5zhSFEUwDljz",
        "colab": {
          "base_uri": "https://localhost:8080/"
        },
        "outputId": "22e5d417-b300-4afd-a5cd-eb43f49c4625"
      },
      "source": [
        "my_numbers = []\n",
        "\n",
        "# วนลูปตลอดไปจนกว่าจะถูกสั่ง break\n",
        "while True:\n",
        "    num = int(input('Enter an integer: '))\n",
        "\n",
        "    # หากค่า num เป็น 0 ให้ออกจากลูปด้วยคำสั่ง break\n",
        "    if num == 0:\n",
        "      break\n",
        "\n",
        "    # นำค่า num ไปต่อท้ายลิสต์ my_numbers\n",
        "    my_numbers.append(num)\n",
        "\n",
        "# เรียงลำดับสมาชิกในลิสต์ my_numbers จากมากไปน้อยด้วยคำสั่ง sort\n",
        "my_numbers.sort(reverse=True)\n",
        "\n",
        "print(my_numbers)"
      ],
      "execution_count": null,
      "outputs": [
        {
          "output_type": "stream",
          "name": "stdout",
          "text": [
            "Enter an integer: 3\n",
            "Enter an integer: 1\n",
            "Enter an integer: 7\n",
            "Enter an integer: 0\n",
            "[7, 3, 1]\n"
          ]
        }
      ]
    },
    {
      "cell_type": "markdown",
      "metadata": {
        "id": "SRnqVAfSDo_6"
      },
      "source": [
        "- สังเกตว่าคำสั่ง `while True` จะใช้ในการวนลูปตลอดไป (forever loop) ซึ่งจะมีประโยชน์ในกรณีที่จำเป็นต้องตรวจสอบเงื่อนไขในขณะทำกระบวนการนั่นเอง"
      ]
    },
    {
      "cell_type": "markdown",
      "metadata": {
        "id": "m3RxkRXVcBIr"
      },
      "source": [
        "## หัวข้อที่ 9: การอ่านและเขียนไฟล์"
      ]
    },
    {
      "cell_type": "markdown",
      "metadata": {
        "id": "rxZVlq6DP3xe"
      },
      "source": [
        "### การเปิดไฟล์และปิดไฟล์\n"
      ]
    },
    {
      "cell_type": "markdown",
      "metadata": {
        "id": "4iZK3czGzZ3i"
      },
      "source": [
        "- เราสามารถเปิดไฟล์ได้โดยใช้คำสั่ง `open(ชื่อไฟล์, ข้ออนุญาต)` โดยเราจะต้องนำตัวแปร 1 ตัว (ซึ่งเรียกว่า file handler) มารับตัวแทนไฟล์นั้นเอาไว้ เราจะได้นำไฟล์ไปใช้งานต่อได้\n",
        "\n",
        "- ข้ออนุญาตในการใช้ไฟล์ที่ใช้กันทั่วไป มีอยู่ด้วยกัน 3 ประเภท\n",
        "  - ข้ออนุญาตประเภท `'r'` คืออ่านข้อมูลอย่างเดียวเท่านั้น\n",
        "  - ข้ออนุญาตประเภท `'w'` คือเขียนข้อมูลทับอย่างเดียวเท่านั้น\n",
        "  - ข้ออนุญาตประเภท `'a'` คือเขียนข้อมูลต่อท้ายอย่างเดียวเท่านั้น\n",
        "  \n",
        "- เมื่อใช้ไฟล์เสร็จแล้ว เราควรสั่งปิดไฟล์ได้ด้วยคำสั่ง `ไฟล์.close()`\n",
        "- <u>**ข้อควรระวัง:**</u> ถ้าไม่ปิดไฟล์หลังใช้งานเสร็จ ข้อมูลที่เราสั่งเขียนลงไปอาจจะหายไปหมดก็ได้"
      ]
    },
    {
      "cell_type": "code",
      "metadata": {
        "id": "_R_dOxSNQMh6"
      },
      "source": [
        "fhdl = open('test_file_1.txt', 'w')         # fhdl ย่อมาจากคำว่า file handler\n",
        "fhdl.close()"
      ],
      "execution_count": null,
      "outputs": []
    },
    {
      "cell_type": "markdown",
      "metadata": {
        "id": "9tOcTlFBQSEj"
      },
      "source": [
        "### การเขียนข้อมูลลงไฟล์"
      ]
    },
    {
      "cell_type": "markdown",
      "metadata": {
        "id": "Bn-KWsJNQT3V"
      },
      "source": [
        "- เราสามารถเขียนข้อมูลลงไฟล์ได้ด้วยคำสั่ง `ไฟล์.write(สตริง)`\n",
        "- โปรดสังเกตว่า ข้อมูลที่เขียนลงไฟล์จะต้องอยู่ในรูปแบบของสตริงเสมอ\n",
        "- หากเราต้องการเขียนข้อมูลลงไฟล์ 1 บรรทัด เราต้องใส่เครื่องหมายขึ้นบรรทัดใหม่ `\\n` เองด้วย"
      ]
    },
    {
      "cell_type": "code",
      "metadata": {
        "id": "A_b6heY4QXpo"
      },
      "source": [
        "fhdl = open('test_file_1.txt', 'w')\n",
        "\n",
        "for i in range(1, 11):\n",
        "    fhdl.write(f'{i*10}\\n')\n",
        "\n",
        "fhdl.close()"
      ],
      "execution_count": null,
      "outputs": []
    },
    {
      "cell_type": "markdown",
      "metadata": {
        "id": "lvm3sKzWQapG"
      },
      "source": [
        "### การอ่านข้อมูลทีละ 1 บรรทัดจากไฟล์"
      ]
    },
    {
      "cell_type": "markdown",
      "metadata": {
        "id": "0y_n5xOxQcK1"
      },
      "source": [
        "- เราสามารถอ่านข้อมูลทีละ 1 บรรทัดจากไฟล์ได้ด้วยการวนลูปฟอร์\n",
        "```python\n",
        "    for <บรรทัด> in <ไฟล์> :\n",
        "        <กระบวนการ>\n",
        "```\n",
        "\n",
        "- จะสังเกตได้ว่า ทุกบรรทัดที่อ่านออกมาจากไฟล์ด้วยลูปฟอร์ จะมีเครื่องหมายขึ้นบรรทัด `\\n` ติดมาด้วยเสมอ"
      ]
    },
    {
      "cell_type": "code",
      "metadata": {
        "id": "qlOa7krNQff2",
        "colab": {
          "base_uri": "https://localhost:8080/"
        },
        "outputId": "dcc3fa16-a8bc-4820-ab89-a1dbad3a5c31"
      },
      "source": [
        "fhdl = open('test_file_1.txt', 'r')\n",
        "\n",
        "for line in fhdl:\n",
        "    print(line.strip())\n",
        "\n",
        "fhdl.close()"
      ],
      "execution_count": null,
      "outputs": [
        {
          "output_type": "stream",
          "name": "stdout",
          "text": [
            "10\n",
            "20\n",
            "30\n",
            "40\n",
            "50\n",
            "60\n",
            "70\n",
            "80\n",
            "90\n",
            "100\n"
          ]
        }
      ]
    },
    {
      "cell_type": "markdown",
      "metadata": {
        "id": "s8C1UmP_QhzH"
      },
      "source": [
        "- ดังนั้นปกติแล้ว เราจะสั่ง `สตริง.strip()` แต่ละบรรทัดด้วย เพื่อกำจัดเครื่องหมายเว้นวรรคและขึ้นบรรทัดใหม่ที่ด้านซ้ายและขวาออกไปครับ\n",
        "\n",
        "- เช่น ถ้าเราต้องการจะอ่านตัวเลขในไฟล์ `test_file_1.txt` ออกมาแล้วหาผลรวม เราจะเขียนโปรแกรมได้ดังนี้"
      ]
    },
    {
      "cell_type": "code",
      "metadata": {
        "id": "iXCheFw9QvBr",
        "colab": {
          "base_uri": "https://localhost:8080/"
        },
        "outputId": "f1cd58d0-317b-4c9a-9f66-906a43b7dad6"
      },
      "source": [
        "fhdl = open('test_file_1.txt', 'r')\n",
        "\n",
        "my_sum = 0\n",
        "\n",
        "for line in fhdl:\n",
        "    numstr = line.strip()       # กำจัดเว้นวรรคและขึ้นบรรทัดใหม่ซ้ายขวาทิ้งไป\n",
        "    my_sum = my_sum + int(numstr)\n",
        "\n",
        "fhdl.close()\n",
        "\n",
        "print(my_sum)"
      ],
      "execution_count": null,
      "outputs": [
        {
          "output_type": "stream",
          "name": "stdout",
          "text": [
            "550\n"
          ]
        }
      ]
    },
    {
      "cell_type": "markdown",
      "metadata": {
        "id": "6fuVifIFQy_J"
      },
      "source": [
        "### การอ่านไฟล์ทุกบรรทัดในคราวเดียว"
      ]
    },
    {
      "cell_type": "markdown",
      "metadata": {
        "id": "njzzymFfQ2Zn"
      },
      "source": [
        "- นอกจากนี้เรายังสามารถอ่านไฟล์ทุกบรรทัดได้ในคราวเดียวด้วยคำสั่ง `ไฟล์.readlines()`\n",
        "\n",
        "- จะสังเกตได้ว่า ทุกบรรทัดก็ยังคงติดเครื่องหมายขึ้นบรรทัดใหม่เอาไว้ โปรดระมัดระวังการใช้งานข้อมูลแต่ละบรรทัดด้วย\n",
        "-ทั้งนี้ เราสามารถกำจัดเครื่องหมายเว้นวรรคและขึ้นบรรทัดใหม่ที่อยู่ด้านซ้ายและขวาในแต่ละบรรทัดได้ด้วยคำสั่ง `strip()` เช่นเคย"
      ]
    },
    {
      "cell_type": "code",
      "metadata": {
        "id": "7phz6eeQQ7oj",
        "colab": {
          "base_uri": "https://localhost:8080/"
        },
        "outputId": "ce608231-a6fc-41d1-c457-4d9aa0fdb040"
      },
      "source": [
        "fhdl = open('test_file_1.txt', 'r')\n",
        "lines = fhdl.readlines()\n",
        "fhdl.close()\n",
        "print(lines)\n",
        "\n",
        "for i in range(len(lines)):\n",
        "    lines[i] = lines[i].strip()\n",
        "\n",
        "print(lines)"
      ],
      "execution_count": null,
      "outputs": [
        {
          "output_type": "stream",
          "name": "stdout",
          "text": [
            "['10\\n', '20\\n', '30\\n', '40\\n', '50\\n', '60\\n', '70\\n', '80\\n', '90\\n', '100\\n']\n",
            "['10', '20', '30', '40', '50', '60', '70', '80', '90', '100']\n"
          ]
        }
      ]
    },
    {
      "cell_type": "markdown",
      "metadata": {
        "id": "V2I8-dy8TIGX"
      },
      "source": [
        "### การแตกสตริง (tokenization)"
      ]
    },
    {
      "cell_type": "markdown",
      "metadata": {
        "id": "XIKrWbnTTKst"
      },
      "source": [
        "- เราสามารถแบ่งสตริงออกเป็นลิสต์ของคำด้วยเครื่องหมายเว้นวรรคได้ด้วยคำสั่ง `สตริง.split()`"
      ]
    },
    {
      "cell_type": "code",
      "metadata": {
        "id": "Hs9XQiptTNdT",
        "colab": {
          "base_uri": "https://localhost:8080/"
        },
        "outputId": "485f0a80-e807-4eae-a36e-4edb5b2e9828"
      },
      "source": [
        "tokens = 'hello i am glad to be here'.split()\n",
        "print(tokens)"
      ],
      "execution_count": null,
      "outputs": [
        {
          "output_type": "stream",
          "name": "stdout",
          "text": [
            "['hello', 'i', 'am', 'glad', 'to', 'be', 'here']\n"
          ]
        }
      ]
    },
    {
      "cell_type": "markdown",
      "metadata": {
        "id": "sb9kMtJvTVoa"
      },
      "source": [
        "- ไม่ว่าจะเว้นวรรคสักกี่ครั้ง คำสั่ง `split()` ก็ยังสามารถแบ่งสตริงออกเป็นลิสต์ของคำได้"
      ]
    },
    {
      "cell_type": "code",
      "metadata": {
        "id": "uroX8c_8TXFG",
        "colab": {
          "base_uri": "https://localhost:8080/"
        },
        "outputId": "70cbee7e-057a-4272-b0fa-3ab9f5bbfe5c"
      },
      "source": [
        "tokens = '   hello     i    am glad    to be   here   '.split()\n",
        "print(tokens)"
      ],
      "execution_count": null,
      "outputs": [
        {
          "output_type": "stream",
          "name": "stdout",
          "text": [
            "['hello', 'i', 'am', 'glad', 'to', 'be', 'here']\n"
          ]
        }
      ]
    },
    {
      "cell_type": "markdown",
      "metadata": {
        "id": "f5ZLA1SQTbEw"
      },
      "source": [
        "- นอกจากนี้เรายังสามารถระบุเครื่องหมายตัดสตริง (delimiter) ได้อีกด้วย\n",
        "- เช่น หากเราต้องการตัดสตริงด้วยเครื่องหมาย `,` เราจะใช้คำสั่งดังนี้"
      ]
    },
    {
      "cell_type": "code",
      "metadata": {
        "id": "DFBY1fUlTeDG",
        "colab": {
          "base_uri": "https://localhost:8080/"
        },
        "outputId": "1ce87aee-b74f-409e-8681-0a21124390af"
      },
      "source": [
        "tokens = '533-7855,536-2313,524-7306'.split(',')\n",
        "print(tokens)"
      ],
      "execution_count": null,
      "outputs": [
        {
          "output_type": "stream",
          "name": "stdout",
          "text": [
            "['533-7855', '536-2313', '524-7306']\n"
          ]
        }
      ]
    },
    {
      "cell_type": "markdown",
      "metadata": {
        "id": "q1YlXvq9Tnj6"
      },
      "source": [
        "- แต่หากระบุเครื่องหมายตัดสตริง คำสั่ง `split()` จะยอมปล่อยให้มีสตริงว่างเกิดขึ้นได้ด้วย หากว่ามีเครื่องหมายตัดสตริงปรากฏขึ้นติดกันหลายครั้ง"
      ]
    },
    {
      "cell_type": "code",
      "metadata": {
        "id": "ikvde5mdTpc0",
        "colab": {
          "base_uri": "https://localhost:8080/"
        },
        "outputId": "98bcccaa-b703-4723-92db-a659fd1c6b45"
      },
      "source": [
        "tokens = '533-7855,,536-2313,,,,524-7306'.split(',')\n",
        "print(tokens)"
      ],
      "execution_count": null,
      "outputs": [
        {
          "output_type": "stream",
          "name": "stdout",
          "text": [
            "['533-7855', '', '536-2313', '', '', '', '524-7306']\n"
          ]
        }
      ]
    },
    {
      "cell_type": "markdown",
      "metadata": {
        "id": "53s7bDeNTzO3"
      },
      "source": [
        "### การเชื่อมลิสต์ของสตริง"
      ]
    },
    {
      "cell_type": "markdown",
      "metadata": {
        "id": "0CNN-qZkTz5y"
      },
      "source": [
        "- เราสามารถเชื่อมลิสต์ของสตริงเข้าด้วยกันโดยใช้คำสั่ง `สตริงเชื่อม.join(ลิสต์ของสตริง)`"
      ]
    },
    {
      "cell_type": "code",
      "metadata": {
        "id": "PgaZ88PuT5I1",
        "colab": {
          "base_uri": "https://localhost:8080/"
        },
        "outputId": "3d5efaea-a0a2-4067-9bc1-0d968a1c8c7a"
      },
      "source": [
        "words = ['hello', 'i', 'am', 'glad', 'to', 'be', 'here']\n",
        "print('<->'.join(words))"
      ],
      "execution_count": null,
      "outputs": [
        {
          "output_type": "stream",
          "name": "stdout",
          "text": [
            "hello<->i<->am<->glad<->to<->be<->here\n"
          ]
        }
      ]
    },
    {
      "cell_type": "code",
      "source": [
        "nums = [1,2,3,4,5]\n",
        "str_nums = map(str, nums)\n",
        "print(','.join(str_nums))"
      ],
      "metadata": {
        "colab": {
          "base_uri": "https://localhost:8080/"
        },
        "id": "ffm7W5LP_Ao-",
        "outputId": "99130dd4-53ca-4410-bbe7-d93db526de8c"
      },
      "execution_count": null,
      "outputs": [
        {
          "output_type": "stream",
          "name": "stdout",
          "text": [
            "1,2,3,4,5\n"
          ]
        }
      ]
    },
    {
      "cell_type": "markdown",
      "metadata": {
        "id": "mJK6ShFtT8vl"
      },
      "source": [
        "- หากเราเชื่อมลิสต์ของสตริงด้วยสตริงว่าง ผลที่ได้คือทุกสตริงในลิสต์จะเชื่อมติดกันหมด"
      ]
    },
    {
      "cell_type": "code",
      "metadata": {
        "id": "SHOdd-j0T-JY"
      },
      "source": [
        "words = ['hello' , 'i', 'am', 'glad', 'to', 'be', 'here']\n",
        "print(''.join(words))"
      ],
      "execution_count": null,
      "outputs": []
    },
    {
      "cell_type": "markdown",
      "metadata": {
        "id": "EHMXceCwUEAX"
      },
      "source": [
        "### แบบฝึกหัด 9.1"
      ]
    },
    {
      "cell_type": "markdown",
      "metadata": {
        "id": "mrBMDRwmUJjI"
      },
      "source": [
        "จงรับตัวเลข 1 ตัวจากผู้ใช้ แล้วสร้างไฟล์ `test_file_3.txt` ดังตัวอย่างต่อไปนี้\n",
        "\n",
        "```\n",
        "Enter n: 5\n",
        "```\n",
        "\n",
        "ส่วนตรงนี้คือเนื้อหาของไฟล์ที่ได้จากค่าอินพุต `n`\n",
        "```\n",
        "50      40      30      20      10      \n",
        "40      30      20      10      \n",
        "30      20      10      \n",
        "20      10      \n",
        "10      \n",
        "```\n",
        "โดยตัวเลขทุกตัวจะต้องมีความกว้าง 10 ตัวอักษรชิดซ้าย"
      ]
    },
    {
      "cell_type": "code",
      "metadata": {
        "id": "x2mmhOEhUPF3",
        "colab": {
          "base_uri": "https://localhost:8080/"
        },
        "outputId": "b7846e9e-ef3d-48f0-d051-64cc73709994"
      },
      "source": [
        "f = open('test_file_3.txt', 'w')\n",
        "n = int(input('Enter n: '))\n",
        "\n",
        "for i in range(n,0,-1):\n",
        "  for j in range(i,0,-1):\n",
        "    f.write(f'{j*10:<10}')\n",
        "  f.write('\\n')\n",
        "\n",
        "f.close()\n"
      ],
      "execution_count": null,
      "outputs": [
        {
          "name": "stdout",
          "output_type": "stream",
          "text": [
            "Enter n: 10\n"
          ]
        }
      ]
    },
    {
      "cell_type": "markdown",
      "metadata": {
        "id": "UxevZilGUPVS"
      },
      "source": [
        "ท่านสามารถตรวจสอบผลลัพธ์ได้จากการรันโปรแกรมด้านล่างนี้"
      ]
    },
    {
      "cell_type": "code",
      "metadata": {
        "id": "QmFC-MLGUStI",
        "colab": {
          "base_uri": "https://localhost:8080/"
        },
        "outputId": "efb23b15-9e9a-43e3-de56-9ec9f4fe78cd"
      },
      "source": [
        "ifhdl = open('test_file_3.txt', 'r')\n",
        "for line in ifhdl:\n",
        "    print(line.strip())\n",
        "ifhdl.close()"
      ],
      "execution_count": null,
      "outputs": [
        {
          "output_type": "stream",
          "name": "stdout",
          "text": [
            "100       90        80        70        60        50        40        30        20        10\n",
            "90        80        70        60        50        40        30        20        10\n",
            "80        70        60        50        40        30        20        10\n",
            "70        60        50        40        30        20        10\n",
            "60        50        40        30        20        10\n",
            "50        40        30        20        10\n",
            "40        30        20        10\n",
            "30        20        10\n",
            "20        10\n",
            "10\n"
          ]
        }
      ]
    },
    {
      "cell_type": "markdown",
      "metadata": {
        "id": "k-xhulaJUXwr"
      },
      "source": [
        "### แบบฝึกหัด 9.2"
      ]
    },
    {
      "cell_type": "markdown",
      "metadata": {
        "id": "XyIF8ctQUahC"
      },
      "source": [
        "จงอ่านไฟล์ `test_file_3.txt` จากแบบฝึกหัด 9.1 แล้วหาผลรวมของตัวเลขในแต่ละบรรทัด เช่น ถ้าไฟล์ `test_file_3.txt` มีเนื้อหาเป็นดังนี้\n",
        "```\n",
        "50      40      30      20      10      \n",
        "40      30      20      10      \n",
        "30      20      10      \n",
        "20      10      \n",
        "10      \n",
        "```\n",
        "เราจะได้ผลลัพธ์ดังต่อไปนี้\n",
        "```\n",
        "150\n",
        "100\n",
        "60\n",
        "30\n",
        "10\n",
        "```"
      ]
    },
    {
      "cell_type": "code",
      "metadata": {
        "id": "eCZqczh1UdnJ",
        "colab": {
          "base_uri": "https://localhost:8080/"
        },
        "outputId": "3751b4a4-f99c-4ba5-805e-6a07cffb30a3"
      },
      "source": [
        "ifhdl = open('test_file_3.txt', 'r')\n",
        "for line in ifhdl:\n",
        "    print(sum(list(map(int, line.split()))))\n",
        "ifhdl.close()"
      ],
      "execution_count": null,
      "outputs": [
        {
          "output_type": "stream",
          "name": "stdout",
          "text": [
            "550\n",
            "450\n",
            "360\n",
            "280\n",
            "210\n",
            "150\n",
            "100\n",
            "60\n",
            "30\n",
            "10\n"
          ]
        }
      ]
    },
    {
      "cell_type": "code",
      "source": [],
      "metadata": {
        "id": "nYWhkXFT3EZg"
      },
      "execution_count": null,
      "outputs": []
    }
  ]
}